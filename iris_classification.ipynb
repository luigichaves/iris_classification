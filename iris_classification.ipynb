{
 "cells": [
  {
   "cell_type": "markdown",
   "id": "e3c54813-7ab9-4c1e-9b6b-0b343045c70c",
   "metadata": {},
   "source": [
    "* https://www.kaggle.com/datasets/uciml/iris"
   ]
  },
  {
   "cell_type": "markdown",
   "id": "fef21623-d4e9-408d-93c6-1f7254f56184",
   "metadata": {
    "tags": []
   },
   "source": [
    "# Exploração dos dados"
   ]
  },
  {
   "cell_type": "code",
   "execution_count": null,
   "id": "1abdf013-5838-4fa0-ba41-53e19b71ea5d",
   "metadata": {},
   "outputs": [],
   "source": [
    "import numpy as np\n",
    "import pandas as pd\n",
    "import matplotlib.pyplot as plt\n",
    "import plotly.express as px\n",
    "\n",
    "plt.rcParams['figure.figsize'] = (10,7) # definindo 'default' para o tamanho dos graficos"
   ]
  },
  {
   "cell_type": "code",
   "execution_count": null,
   "id": "9ecb99f2-f214-4892-9865-d0d7b5243e94",
   "metadata": {},
   "outputs": [],
   "source": [
    "df = pd.read_csv('Iris.csv') # lendo o arquivo"
   ]
  },
  {
   "cell_type": "code",
   "execution_count": null,
   "id": "6e7dad1e-707a-4705-bfe1-5c81a20a5022",
   "metadata": {},
   "outputs": [],
   "source": [
    "df.head()"
   ]
  },
  {
   "cell_type": "code",
   "execution_count": null,
   "id": "4f377f89-1bce-43f3-84fd-023b94ce326d",
   "metadata": {},
   "outputs": [],
   "source": [
    "df.tail()"
   ]
  },
  {
   "cell_type": "code",
   "execution_count": null,
   "id": "cac2cab3-df1e-4625-8b61-832e11f0430a",
   "metadata": {},
   "outputs": [],
   "source": [
    "df.shape # tamanho do dataset (linhas, colunas)"
   ]
  },
  {
   "cell_type": "code",
   "execution_count": null,
   "id": "3e76788d-7afb-4221-847c-865ea23bff39",
   "metadata": {},
   "outputs": [],
   "source": [
    "df.dtypes # tipos de dados"
   ]
  },
  {
   "cell_type": "code",
   "execution_count": null,
   "id": "2e52f8b5-c39c-4d10-9fcd-bef10054966d",
   "metadata": {},
   "outputs": [],
   "source": [
    "df.isnull().sum() # soma de nulos"
   ]
  },
  {
   "cell_type": "code",
   "execution_count": null,
   "id": "0ae92801-ed33-4f41-90a3-5bd65bde1e67",
   "metadata": {},
   "outputs": [],
   "source": [
    "df.describe() # analise estatistica"
   ]
  },
  {
   "cell_type": "code",
   "execution_count": null,
   "id": "7129c85c-9d36-4631-b674-906445cde592",
   "metadata": {},
   "outputs": [],
   "source": [
    "df['Species'].value_counts() # contagem de especies"
   ]
  },
  {
   "cell_type": "markdown",
   "id": "b6020220-cb03-4ead-8cc8-38155f2a7451",
   "metadata": {
    "tags": []
   },
   "source": [
    "# Visualização da distribuição de medidas e outliers em cada espécie"
   ]
  },
  {
   "cell_type": "code",
   "execution_count": null,
   "id": "40d957d8-2c69-4241-9c5a-c73ad54dc9aa",
   "metadata": {},
   "outputs": [],
   "source": [
    "plt.style.available # estilos de gráficos disponíveis"
   ]
  },
  {
   "cell_type": "code",
   "execution_count": null,
   "id": "21d66dc6-e846-4026-955f-20ac76b024d5",
   "metadata": {},
   "outputs": [],
   "source": [
    "df.head(0) # visualizando colunas"
   ]
  },
  {
   "cell_type": "markdown",
   "id": "d8272ae7-12ef-4b55-8580-91261f277ab4",
   "metadata": {
    "tags": []
   },
   "source": [
    "### *Iris-virginica*"
   ]
  },
  {
   "cell_type": "code",
   "execution_count": null,
   "id": "cb17887e-0372-4a58-819f-9a870affafe7",
   "metadata": {},
   "outputs": [],
   "source": [
    "iris_v = df.loc[df['Species'] == 'Iris-virginica'] # localizando especie iris-virginica"
   ]
  },
  {
   "cell_type": "code",
   "execution_count": null,
   "id": "e243befb-af24-4a25-baae-2929368ce0a8",
   "metadata": {},
   "outputs": [],
   "source": [
    "plt.style.use('ggplot') # estilo do grafico\n",
    "iris_v['SepalLengthCm'].plot(kind='hist', bins=19, color='b', alpha=0.75)\n",
    "plt.title('Sepal Lenght (Iris-virginica)', fontsize=16, fontfamily='serif') # titulo, cor, etc\n",
    "plt.xlabel('cm', fontsize=15, fontfamily='serif') # titulo do eixo x\n",
    "plt.ylabel('Frequency', fontsize=15, fontfamily='serif') # titulo do eixo y\n",
    "plt.tight_layout() # refinando\n",
    "plt.show()"
   ]
  },
  {
   "cell_type": "code",
   "execution_count": null,
   "id": "1d1660a1-1966-4e92-8fe4-95efa11026ce",
   "metadata": {},
   "outputs": [],
   "source": [
    "plt.style.use('ggplot') # estilo do grafico\n",
    "iris_v['SepalWidthCm'].plot(kind='hist', bins=17, color='b', alpha=0.75)\n",
    "plt.title('Sepal Width (Iris-virginica)', fontsize=16, fontfamily='serif') # titulo, cor, etc\n",
    "plt.xlabel('cm', fontsize=15, fontfamily='serif') # titulo do eixo x\n",
    "plt.ylabel('Frequency', fontsize=15, fontfamily='serif') # titulo do eixo y\n",
    "plt.tight_layout() # refinando\n",
    "plt.show()"
   ]
  },
  {
   "cell_type": "code",
   "execution_count": null,
   "id": "56627ec5-8537-4c8f-9ca2-2ba362203648",
   "metadata": {},
   "outputs": [],
   "source": [
    "plt.style.use('ggplot') # estilo do grafico\n",
    "iris_v['PetalLengthCm'].plot(kind='hist', bins=17, color='b', alpha=0.75)\n",
    "plt.title('Petal Length (Iris-virginica)', fontsize=16, fontfamily='serif') # titulo, cor, etc\n",
    "plt.xlabel('cm', fontsize=15, fontfamily='serif') # titulo do eixo x\n",
    "plt.ylabel('Frequency', fontsize=15, fontfamily='serif') # titulo do eixo y\n",
    "plt.tight_layout() # refinando\n",
    "plt.show()"
   ]
  },
  {
   "cell_type": "code",
   "execution_count": null,
   "id": "d5c56731-8fd6-46be-a1a0-52b057a6b04a",
   "metadata": {},
   "outputs": [],
   "source": [
    "plt.style.use('ggplot') # estilo do grafico\n",
    "iris_v['PetalWidthCm'].plot(kind='hist', bins=15, color='b', alpha=0.75) \n",
    "plt.title('Petal Width (Iris-virginica)', fontsize=16, fontfamily='serif')# titulo, cor, etc\n",
    "plt.xlabel('cm', fontsize=15, fontfamily='serif') # titulo do eixo x\n",
    "plt.ylabel('Frequency', fontsize=15, fontfamily='serif') # titulo do eixo y\n",
    "plt.tight_layout() # refinando\n",
    "plt.show()"
   ]
  },
  {
   "cell_type": "code",
   "execution_count": null,
   "id": "ef12944f-970c-4821-ad41-8261d37d2340",
   "metadata": {},
   "outputs": [],
   "source": [
    "import plotly.graph_objects as go\n",
    "\n",
    "fig2 = go.Figure()\n",
    "\n",
    "x = iris_v['Species'] # eixo x\n",
    "\n",
    "# O método add_trace() nos permite adicionar varios traces em um unico grafico\n",
    "\n",
    "fig2.add_trace(go.Box(y= iris_v['SepalLengthCm'], # eixo y\n",
    "                      x=x, # eixo x\n",
    "                      name='Sepal Length', # nome da legenda\n",
    "                      marker_color='green')) # cor\n",
    "\n",
    "fig2.add_trace(go.Box(y= iris_v['SepalWidthCm'], # eixo y\n",
    "                      x=x,\n",
    "                      name='Sepal Width', # nome da legenda\n",
    "                      marker_color='yellow')) # cor\n",
    "\n",
    "fig2.add_trace(go.Box(y= iris_v['PetalLengthCm'], # eixo y\n",
    "                      x=x,\n",
    "                      name='Petal Length', # nome da legenda\n",
    "                      marker_color='blue')) # cor\n",
    "\n",
    "fig2.add_trace(go.Box(y= iris_v['PetalWidthCm'], # eixo y\n",
    "                      x=x, \n",
    "                      name='Petal Width', # nome da legenda\n",
    "                      marker_color='red')) # cor\n",
    "\n",
    "fig2.update_layout(boxmode='group', width=960, height=600, template='ggplot2')\n",
    "# agrupar caixas dos diferentes traces para cada valor de x (boxmode='group')\n",
    "fig2.show()"
   ]
  },
  {
   "cell_type": "markdown",
   "id": "2e392f59-e686-4e52-9f74-5200e3273cb5",
   "metadata": {
    "tags": []
   },
   "source": [
    "### *Iris-setosa*"
   ]
  },
  {
   "cell_type": "code",
   "execution_count": null,
   "id": "8070fae6-21f0-4e40-958c-d5b137cc4171",
   "metadata": {},
   "outputs": [],
   "source": [
    "iris_s = df.loc[df['Species'] == 'Iris-setosa'] # localizando especie iris-setosa"
   ]
  },
  {
   "cell_type": "code",
   "execution_count": null,
   "id": "daebb2da-8b2d-4725-abdd-eef5fb222302",
   "metadata": {},
   "outputs": [],
   "source": [
    "plt.style.use('ggplot') # estilo do grafico\n",
    "iris_s['SepalLengthCm'].plot(kind='hist', bins=16, color='b', alpha=0.75)\n",
    "plt.title('Sepal Lenght (Iris-setosa)', fontsize=16, fontfamily='serif') # titulo, tamanho da fonte, cor, etc\n",
    "plt.xlabel('cm', fontsize=15, fontfamily='serif') # titulo do eixo x\n",
    "plt.ylabel('Frequency', fontsize=15, fontfamily='serif') # titulo do eixo y\n",
    "plt.tight_layout() # refinando\n",
    "plt.show()"
   ]
  },
  {
   "cell_type": "code",
   "execution_count": null,
   "id": "85226426-aa17-48ef-a2ce-0c1fadc05586",
   "metadata": {},
   "outputs": [],
   "source": [
    "plt.style.use('ggplot') # estilo do grafico\n",
    "iris_s['SepalWidthCm'].plot(kind='hist', bins=16, color='b', alpha=0.75)\n",
    "plt.title('Sepal Width (Iris-setosa)', fontsize=16, fontfamily='serif') # titulo, tamanho da fonte, cor, etc\n",
    "plt.xlabel('cm', fontsize=15, fontfamily='serif') # titulo do eixo x\n",
    "plt.ylabel('Frequency', fontsize=15, fontfamily='serif') # titulo do eixo y\n",
    "plt.tight_layout() # refinando\n",
    "plt.show()"
   ]
  },
  {
   "cell_type": "code",
   "execution_count": null,
   "id": "decbaca4-ebb4-4b08-990b-6cad4bac86e5",
   "metadata": {},
   "outputs": [],
   "source": [
    "plt.style.use('ggplot') # estilo do grafico\n",
    "iris_s['PetalLengthCm'].plot(kind='hist', bins=10, color='b', alpha=0.75)\n",
    "plt.title('Petal Length (Iris-setosa)', fontsize=16, fontfamily='serif')\n",
    "plt.xlabel('cm', fontsize=15, fontfamily='serif')\n",
    "plt.ylabel('Frequency', fontsize=15, fontfamily='serif')\n",
    "plt.tight_layout()\n",
    "plt.show()"
   ]
  },
  {
   "cell_type": "code",
   "execution_count": null,
   "id": "81367a73-2b54-4996-80cc-1935298a5a64",
   "metadata": {},
   "outputs": [],
   "source": [
    "plt.style.use('ggplot') # estilo do grafico\n",
    "iris_s['PetalWidthCm'].plot(kind='hist', bins=5, color='b', alpha=0.75)\n",
    "plt.title('Petal Width (Iris-setosa)', fontsize=16, fontfamily='serif')\n",
    "plt.xlabel('cm', fontsize=15, fontfamily='serif')\n",
    "plt.ylabel('Frequency', fontsize=15, fontfamily='serif')\n",
    "plt.tight_layout()\n",
    "plt.show()"
   ]
  },
  {
   "cell_type": "code",
   "execution_count": null,
   "id": "2bd65c18-ea37-4e4c-af8e-ec5e2dbaa9d2",
   "metadata": {},
   "outputs": [],
   "source": [
    "import plotly.graph_objects as go\n",
    "\n",
    "fig2 = go.Figure()\n",
    "\n",
    "x = iris_s['Species'] # eixo x\n",
    "\n",
    "# O método add_trace() nos permite adicionar varios traços em um unico grafico\n",
    "\n",
    "fig2.add_trace(go.Box(y= iris_s['SepalLengthCm'], # eixo y\n",
    "                      x=x,\n",
    "                      name='Sepal Length', # nome da legenda\n",
    "                      marker_color='green')) # cor\n",
    "\n",
    "fig2.add_trace(go.Box(y= iris_s['SepalWidthCm'], # eixo y\n",
    "                      x=x,\n",
    "                      name='Sepal Width', # nome da legenda\n",
    "                      marker_color='yellow')) # cor\n",
    "\n",
    "fig2.add_trace(go.Box(y= iris_s['PetalLengthCm'], # eixo y\n",
    "                      x=x,\n",
    "                      name='Petal Length', # nome da legenda\n",
    "                      marker_color='blue')) # cor\n",
    "\n",
    "fig2.add_trace(go.Box(y= iris_s['PetalWidthCm'], # eixo y\n",
    "                      x=x,\n",
    "                      name='Petal Width', # nome da legenda\n",
    "                      marker_color='red')) # cor\n",
    "\n",
    "fig2.update_layout(boxmode='group', width=1100, height=600, template='ggplot2')\n",
    "# agrupar caixas dos diferentes traces para cada valor de x (boxmode='group')\n",
    "fig2.show()"
   ]
  },
  {
   "cell_type": "markdown",
   "id": "21c86ddc-ccbf-40d1-9725-94811eac3909",
   "metadata": {
    "tags": []
   },
   "source": [
    "### *Iris-versicolor*"
   ]
  },
  {
   "cell_type": "code",
   "execution_count": null,
   "id": "958bf763-b013-409a-9c69-6256cf8f68df",
   "metadata": {},
   "outputs": [],
   "source": [
    "iris_ver = df.loc[df['Species'] == 'Iris-versicolor'] # localizando especie iris-versicolor"
   ]
  },
  {
   "cell_type": "code",
   "execution_count": null,
   "id": "ef1ba2a7-33ef-46ac-89b7-ce480ec29128",
   "metadata": {},
   "outputs": [],
   "source": [
    "plt.style.use('ggplot') # estilo do grafico\n",
    "iris_ver['SepalLengthCm'].plot(kind='hist', bins=19, color='b', alpha=0.75)\n",
    "plt.title('Sepal Lenght (Iris-versicolor)', fontsize=16, fontfamily='serif') # titulo, fonte, tamanho da fonte, etc\n",
    "plt.xlabel('cm', fontsize=15, fontfamily='serif') # titulo do eixo x\n",
    "plt.ylabel('Frequency', fontsize=15, fontfamily='serif') # titulo do eixo y\n",
    "plt.tight_layout() # refinando\n",
    "plt.show()"
   ]
  },
  {
   "cell_type": "code",
   "execution_count": null,
   "id": "57f1c1b8-4a18-4f90-a295-c589b8f6ca77",
   "metadata": {},
   "outputs": [],
   "source": [
    "plt.style.use('ggplot') # estilo do grafico\n",
    "iris_ver['SepalWidthCm'].plot(kind='hist', bins=15, color='b', alpha=0.75)\n",
    "plt.title('Sepal Width (Iris-versicolor)', fontsize=16, fontfamily='serif') # titulo, fonte, tamanho da fonte, etc\n",
    "plt.xlabel('cm', fontsize=15, fontfamily='serif') # titulo do eixo x\n",
    "plt.ylabel('Frequency', fontsize=15, fontfamily='serif') # titulo do eixo y\n",
    "plt.tight_layout() # refinando\n",
    "plt.show()"
   ]
  },
  {
   "cell_type": "code",
   "execution_count": null,
   "id": "dc87a537-155d-45d7-a75b-6f7531075131",
   "metadata": {},
   "outputs": [],
   "source": [
    "plt.style.use('ggplot') # estilo do grafico\n",
    "iris_ver['PetalLengthCm'].plot(kind='hist', bins=19, color='b', alpha=0.75)\n",
    "plt.title('Petal Length (Iris-versicolor)', fontsize=16, fontfamily='serif') # titulo, fonte, tamanho da fonte, etc\n",
    "plt.xlabel('cm', fontsize=15, fontfamily='serif') # titulo do eixo x\n",
    "plt.ylabel('Frequency', fontsize=15, fontfamily='serif') # titulo do eixo y\n",
    "plt.tight_layout() # refinando\n",
    "plt.show()"
   ]
  },
  {
   "cell_type": "code",
   "execution_count": null,
   "id": "0072b047-d74b-42f8-8f54-b62f4247472c",
   "metadata": {},
   "outputs": [],
   "source": [
    "plt.style.use('ggplot') # estilo do grafico\n",
    "iris_ver['PetalWidthCm'].plot(kind='hist', bins=10, color='b', alpha=0.75)\n",
    "plt.title('Petal Width (Iris-versicolor)', fontsize=16, fontfamily='serif') # titulo, fonte, tamanho da fonte, etc\n",
    "plt.xlabel('cm', fontsize=15, fontfamily='serif') # titulo do eixo x\n",
    "plt.ylabel('Frequency', fontsize=15, fontfamily='serif')# titulo do eixo y\n",
    "plt.tight_layout() # refinando\n",
    "plt.show()"
   ]
  },
  {
   "cell_type": "code",
   "execution_count": null,
   "id": "b4c2cff4-d9a9-4c9e-b7c4-ad8708a4e9f1",
   "metadata": {},
   "outputs": [],
   "source": [
    "import plotly.graph_objects as go\n",
    "\n",
    "fig2 = go.Figure()\n",
    "\n",
    "x = iris_ver['Species'] # eixo x\n",
    "\n",
    "# O método add_trace() nos permite adicionar varios traços em um unico grafico\n",
    "\n",
    "fig2.add_trace(go.Box(y= iris_ver['SepalLengthCm'], # eixo y\n",
    "                      x=x,\n",
    "                      name='Sepal Length', # nome da legenda\n",
    "                      marker_color='green')) # cor\n",
    "\n",
    "fig2.add_trace(go.Box(y= iris_ver['SepalWidthCm'], # eixo y\n",
    "                      x=x,\n",
    "                      name='Sepal Width', # nome da legenda\n",
    "                      marker_color='yellow')) # cor\n",
    "\n",
    "fig2.add_trace(go.Box(y= iris_ver['PetalLengthCm'], # eixo y\n",
    "                      x=x,\n",
    "                      name='Petal Length', # nome da legenda\n",
    "                      marker_color='blue')) # cor\n",
    "\n",
    "fig2.add_trace(go.Box(y= iris_ver['PetalWidthCm'], # eixo y\n",
    "                      x=x,\n",
    "                      name='Petal Width', # nome da legenda\n",
    "                      marker_color='red')) # cor\n",
    "\n",
    "fig2.update_layout(boxmode='group', width=960, height=600, template='ggplot2')\n",
    "# agrupar caixas dos diferentes traces para cada valor de x (boxmode='group')\n",
    "fig2.show()"
   ]
  },
  {
   "cell_type": "markdown",
   "id": "7702a3eb-69b5-44df-88da-4f84c8e0a5c0",
   "metadata": {
    "tags": []
   },
   "source": [
    "# Pré-processamento"
   ]
  },
  {
   "cell_type": "code",
   "execution_count": null,
   "id": "bdc1167e-dbde-4975-a4b2-53462c0342a4",
   "metadata": {},
   "outputs": [],
   "source": [
    "df2 = pd.DataFrame.copy(df) # criando uma copia do dataframe"
   ]
  },
  {
   "cell_type": "code",
   "execution_count": null,
   "id": "666caeba-0646-413d-970d-6b0364f1ea65",
   "metadata": {},
   "outputs": [],
   "source": [
    "df2.head(3) # visualizando"
   ]
  },
  {
   "cell_type": "code",
   "execution_count": null,
   "id": "ac900206-fa48-4d48-9943-713ea11239d2",
   "metadata": {},
   "outputs": [],
   "source": [
    "df2 = df2.drop(columns=['Id']) # excluindo coluna 'Id'\n",
    "df2.head(3) # verificando se a coluna foi realmente excluida"
   ]
  },
  {
   "cell_type": "code",
   "execution_count": null,
   "id": "ae340005-03be-4f3e-9a5f-e718a510648e",
   "metadata": {},
   "outputs": [],
   "source": [
    "from sklearn.preprocessing import StandardScaler, LabelEncoder"
   ]
  },
  {
   "cell_type": "markdown",
   "id": "313675b4-b8f6-4a10-a5c0-04861b916298",
   "metadata": {},
   "source": [
    "Definindo previsores e alvo e transformando variáveis categóricas nominais em variáveis categóricas ordinais"
   ]
  },
  {
   "cell_type": "code",
   "execution_count": null,
   "id": "de52cb4f-c25e-4194-8e88-82f1be61f5d9",
   "metadata": {},
   "outputs": [],
   "source": [
    "previsores = df2.iloc[:, 0:4].values # selecionando previsores e colocando em forma de matriz"
   ]
  },
  {
   "cell_type": "code",
   "execution_count": null,
   "id": "611d9663-c72b-4d98-8ba7-bf4716bb0dd1",
   "metadata": {},
   "outputs": [],
   "source": [
    "previsores.shape # tamanho (linhas, colunas)"
   ]
  },
  {
   "cell_type": "code",
   "execution_count": null,
   "id": "c96bde76-5edb-4c58-838c-9331a84faceb",
   "metadata": {},
   "outputs": [],
   "source": [
    "alvo = df2.iloc[:, 4].values # selecionando variavel alvo\n",
    "alvo = LabelEncoder().fit_transform(alvo) # transformando em categoricas ordinais"
   ]
  },
  {
   "cell_type": "code",
   "execution_count": null,
   "id": "bb61cdcd-5bbf-4f90-b54f-9cf2aae75fec",
   "metadata": {},
   "outputs": [],
   "source": [
    "alvo.shape # tamanho (linhas, colunas"
   ]
  },
  {
   "cell_type": "markdown",
   "id": "41191561-949d-487f-8fd6-98ef1e67722a",
   "metadata": {},
   "source": [
    "Escalonando valores (valores variam em torno de zero)"
   ]
  },
  {
   "cell_type": "code",
   "execution_count": null,
   "id": "2d32e539-fa2f-4bfa-abcb-123977cd734e",
   "metadata": {},
   "outputs": [],
   "source": [
    "previsores_esc = StandardScaler().fit_transform(previsores) # escalonamento"
   ]
  },
  {
   "cell_type": "markdown",
   "id": "6b96227f-48b6-4f08-ad6c-406731c48c75",
   "metadata": {
    "tags": []
   },
   "source": [
    "# Base de Treino e Teste"
   ]
  },
  {
   "cell_type": "markdown",
   "id": "d3c92418-f25d-44a3-be6d-4e50849b7de1",
   "metadata": {
    "tags": []
   },
   "source": [
    "### *Resumo do Pré-processamento*\n",
    "\n",
    "* alvo = variável que se deseja atingir\n",
    "* previsores = variável sem escalonar\n",
    "* previsores_esc = variável escalonada"
   ]
  },
  {
   "cell_type": "code",
   "execution_count": null,
   "id": "ce7cee68-ec41-4c34-9fdd-d5754772062f",
   "metadata": {},
   "outputs": [],
   "source": [
    "from sklearn.model_selection import train_test_split"
   ]
  },
  {
   "cell_type": "code",
   "execution_count": null,
   "id": "3433f16c-9012-496c-aa15-5b7c8e035e6c",
   "metadata": {},
   "outputs": [],
   "source": [
    "#train_test_split?"
   ]
  },
  {
   "cell_type": "markdown",
   "id": "6d31496c-8e94-4f7d-aa52-2b4800c6a420",
   "metadata": {},
   "source": [
    "**As alterações dos previsores (previsores e previsores_esc) para procurar a variável com melhor acurácia será feita aqui (manualmente) para poupar tempo e espaço.**"
   ]
  },
  {
   "cell_type": "code",
   "execution_count": null,
   "id": "80765a7d-d816-47d1-8802-052a3fe884a2",
   "metadata": {},
   "outputs": [],
   "source": [
    "x_treino, x_teste, y_treino, y_teste = train_test_split(previsores, alvo, test_size=0.4, random_state=10) # separação de treino e teste\n",
    "# (previsores/previsores_esc)"
   ]
  },
  {
   "cell_type": "markdown",
   "id": "a5c68b74-7747-4f9b-ab26-92cea3679af0",
   "metadata": {
    "tags": []
   },
   "source": [
    "# Naive Bayes"
   ]
  },
  {
   "cell_type": "markdown",
   "id": "7f55e0c9-a803-4089-a767-2740939c4b58",
   "metadata": {
    "tags": []
   },
   "source": [
    "### Treinamento"
   ]
  },
  {
   "cell_type": "code",
   "execution_count": null,
   "id": "e0e062b1-33bd-46ab-a58f-fc5a14d7e5bb",
   "metadata": {},
   "outputs": [],
   "source": [
    "from sklearn.naive_bayes import GaussianNB"
   ]
  },
  {
   "cell_type": "code",
   "execution_count": null,
   "id": "c58597ca-bc8f-4b27-acd8-dbdff612b8a3",
   "metadata": {},
   "outputs": [],
   "source": [
    "naive = GaussianNB() # nomeando metodo\n",
    "naive.fit(x_treino, y_treino) # treinamento"
   ]
  },
  {
   "cell_type": "markdown",
   "id": "3c785415-0dc1-4cee-9984-aa39b9054e3d",
   "metadata": {
    "tags": []
   },
   "source": [
    "### Previsões com dados de teste"
   ]
  },
  {
   "cell_type": "code",
   "execution_count": null,
   "id": "3c6de839-a6ea-4555-aaae-d7f3f08df995",
   "metadata": {},
   "outputs": [],
   "source": [
    "previsoes_naive = naive.predict(x_teste) # previsões com dados de teste\n",
    "previsoes_naive"
   ]
  },
  {
   "cell_type": "code",
   "execution_count": null,
   "id": "524d223a-3012-43e9-8f19-83e2a7330168",
   "metadata": {},
   "outputs": [],
   "source": [
    "y_teste"
   ]
  },
  {
   "cell_type": "code",
   "execution_count": null,
   "id": "3cefa8e5-2ded-4b00-8376-73a1aa05567f",
   "metadata": {},
   "outputs": [],
   "source": [
    "from sklearn.metrics import confusion_matrix, classification_report, accuracy_score"
   ]
  },
  {
   "cell_type": "code",
   "execution_count": null,
   "id": "5b7733b2-66e5-4950-9c86-5d7d0e5b205d",
   "metadata": {},
   "outputs": [],
   "source": [
    "accuracy_score(y_teste, previsoes_naive) # acuracia"
   ]
  },
  {
   "cell_type": "code",
   "execution_count": null,
   "id": "67f229d2-f9ed-4e65-85df-dec4e0a1dcf4",
   "metadata": {},
   "outputs": [],
   "source": [
    "confusion_matrix(y_teste, previsoes_naive) # matriz de confusão"
   ]
  },
  {
   "cell_type": "code",
   "execution_count": null,
   "id": "14ff19d6-70a2-4666-8a7a-285620d5ea68",
   "metadata": {},
   "outputs": [],
   "source": [
    "print(classification_report(y_teste, previsoes_naive)) # dados do treino"
   ]
  },
  {
   "cell_type": "markdown",
   "id": "379458f1-c0d5-42f5-aeab-e14b5de3e2b6",
   "metadata": {
    "tags": []
   },
   "source": [
    "### Previsões com dados de treino"
   ]
  },
  {
   "cell_type": "code",
   "execution_count": null,
   "id": "47f94b9b-e90c-4b68-9971-7ca2ce4f068b",
   "metadata": {},
   "outputs": [],
   "source": [
    "previsoes_treino = naive.predict(x_treino) # previsoes com dados de treino"
   ]
  },
  {
   "cell_type": "code",
   "execution_count": null,
   "id": "ec8d5018-3a91-4ed4-bb4c-032f9bc59b07",
   "metadata": {},
   "outputs": [],
   "source": [
    "accuracy_score(y_treino, previsoes_treino) # acuracia da previsao com dados de treino"
   ]
  },
  {
   "cell_type": "code",
   "execution_count": null,
   "id": "40c10d38-a98b-4b88-adac-95c4705d77b2",
   "metadata": {},
   "outputs": [],
   "source": [
    "confusion_matrix(y_treino, previsoes_treino) # matriz de confusao"
   ]
  },
  {
   "cell_type": "code",
   "execution_count": null,
   "id": "70f5ad4d-b691-4e6c-8825-dd95ae63a3b0",
   "metadata": {},
   "outputs": [],
   "source": [
    "print(classification_report(y_treino, previsoes_treino)) # relatório de classificação"
   ]
  },
  {
   "cell_type": "markdown",
   "id": "7a9673b1-4631-4a93-ae1a-ac8140c2aa01",
   "metadata": {},
   "source": [
    "* previsores = acurácia de 93%\n",
    "* previsores_esc = acurácia de 93%"
   ]
  },
  {
   "cell_type": "markdown",
   "id": "37fa3148-b0de-4b1e-85d2-758cbdd99592",
   "metadata": {
    "tags": []
   },
   "source": [
    "### Validação cruzada"
   ]
  },
  {
   "cell_type": "markdown",
   "id": "0e748fcf-08ff-4da6-ad9f-94e20fb76fe2",
   "metadata": {},
   "source": [
    "Validação cruzada é uma técnica para avaliar modelos de ML por meio de treinamento de vários modelos de ML em subconjuntos de dados de entrada disponíveis e avaliação deles no subconjunto complementar dos dados. Use a validação cruzada para detectar sobreajuste, ou seja, a não generalização de um padrão."
   ]
  },
  {
   "cell_type": "code",
   "execution_count": null,
   "id": "b281ed93-1cc4-4918-94e9-64d3e47c9dad",
   "metadata": {},
   "outputs": [],
   "source": [
    "from sklearn.model_selection import KFold, cross_val_score"
   ]
  },
  {
   "cell_type": "code",
   "execution_count": null,
   "id": "222fa810-d502-4612-9f94-784bcab9991d",
   "metadata": {},
   "outputs": [],
   "source": [
    "kfold = KFold(n_splits=5, random_state=0, shuffle=True) # separaçao em folds"
   ]
  },
  {
   "cell_type": "code",
   "execution_count": null,
   "id": "6bc6be3b-7d32-4806-88f7-7c7d88cd937b",
   "metadata": {},
   "outputs": [],
   "source": [
    "modelo = GaussianNB() # modelo"
   ]
  },
  {
   "cell_type": "code",
   "execution_count": null,
   "id": "457d81ad-f012-4be8-bbc0-f8ba527d72f6",
   "metadata": {},
   "outputs": [],
   "source": [
    "resultado = cross_val_score(modelo, previsores_esc, alvo, cv=kfold) # acuracia em cada fold"
   ]
  },
  {
   "cell_type": "code",
   "execution_count": null,
   "id": "f67d9cc4-589f-45c1-a601-64ffab4aa0bc",
   "metadata": {},
   "outputs": [],
   "source": [
    "print('Acurácia média: {:.2f}%' .format(resultado.mean() * 100)) # media de todas as acuracias"
   ]
  },
  {
   "cell_type": "markdown",
   "id": "91d4c8d7-a3f2-42db-a783-74365f7d7502",
   "metadata": {},
   "source": [
    "Naive Bayes = 93.33% (treino e teste) e 95.33% (validação cruzada) - previsores ou previsores_esc"
   ]
  },
  {
   "cell_type": "markdown",
   "id": "f22d5653-132a-4f83-a86b-2f93e6b6f02d",
   "metadata": {},
   "source": [
    "O valor de acurácia entre os modelos de treino e teste deve estar relativamente próximo ao da validação cruzada, caso contrário, a separação dos mesmos não foi feita adequadamente."
   ]
  },
  {
   "cell_type": "markdown",
   "id": "14871731-93f5-46aa-8899-510c9e312f0c",
   "metadata": {
    "tags": []
   },
   "source": [
    "# SVM"
   ]
  },
  {
   "cell_type": "markdown",
   "id": "90fc675e-3ff3-4c8e-8733-306ea4e6fe59",
   "metadata": {
    "tags": []
   },
   "source": [
    "### Treinamento"
   ]
  },
  {
   "cell_type": "code",
   "execution_count": null,
   "id": "ce3f3454-d587-42bd-b3ac-331037e2e506",
   "metadata": {},
   "outputs": [],
   "source": [
    "from sklearn.svm import SVC"
   ]
  },
  {
   "cell_type": "code",
   "execution_count": null,
   "id": "4822fde8-3ed2-4815-8bf5-5e13b61b84ee",
   "metadata": {},
   "outputs": [],
   "source": [
    "svm = SVC(C=2, kernel='rbf', random_state=5) # nomeando metodo de treinamento\n",
    "svm.fit(x_treino, y_treino) # treinamento"
   ]
  },
  {
   "cell_type": "markdown",
   "id": "c128217b-0a79-456f-92a1-f59484b0fc06",
   "metadata": {
    "tags": []
   },
   "source": [
    "### Previsões com dados de teste"
   ]
  },
  {
   "cell_type": "code",
   "execution_count": null,
   "id": "a40a8e83-6e2c-4ba6-a890-63ef6ef3c08a",
   "metadata": {},
   "outputs": [],
   "source": [
    "previsoes_svm = svm.predict(x_teste) # prevendo dados de teste\n",
    "previsoes_svm"
   ]
  },
  {
   "cell_type": "code",
   "execution_count": null,
   "id": "5c00e279-0c5f-4f31-9e19-7e4e901c8099",
   "metadata": {},
   "outputs": [],
   "source": [
    "accuracy_score(y_teste, previsoes_svm) # acuracia"
   ]
  },
  {
   "cell_type": "code",
   "execution_count": null,
   "id": "797c9239-5145-40d9-b078-a698bc9aa24a",
   "metadata": {},
   "outputs": [],
   "source": [
    "confusion_matrix(y_teste, previsoes_svm) # matriz de confusao"
   ]
  },
  {
   "cell_type": "code",
   "execution_count": null,
   "id": "df39aab3-b9eb-4722-b83e-9a0c1b907df8",
   "metadata": {},
   "outputs": [],
   "source": [
    "print(classification_report(y_teste, previsoes_svm)) # relatorio"
   ]
  },
  {
   "cell_type": "markdown",
   "id": "5e831faf-4a25-40be-9ff3-bab6905f9437",
   "metadata": {
    "tags": []
   },
   "source": [
    "### Previsões com dados de treino"
   ]
  },
  {
   "cell_type": "code",
   "execution_count": null,
   "id": "6379dde1-92b1-4618-b44d-f34ac821e422",
   "metadata": {},
   "outputs": [],
   "source": [
    "previsoes_treino = svm.predict(x_treino) # prevendo dados de treino"
   ]
  },
  {
   "cell_type": "code",
   "execution_count": null,
   "id": "41baa6a1-63bd-468a-943c-2843a284b7c3",
   "metadata": {},
   "outputs": [],
   "source": [
    "accuracy_score(y_treino, previsoes_treino) # acuracia"
   ]
  },
  {
   "cell_type": "code",
   "execution_count": null,
   "id": "fc158fc8-dce0-4354-9e6c-6927d16ae551",
   "metadata": {},
   "outputs": [],
   "source": [
    "confusion_matrix(y_treino, previsoes_treino) # matriz de confusao"
   ]
  },
  {
   "cell_type": "code",
   "execution_count": null,
   "id": "84ef34db-4457-4fa6-87a4-b21dee6a7303",
   "metadata": {},
   "outputs": [],
   "source": [
    "print(classification_report(y_treino, previsoes_treino)) # relatorio"
   ]
  },
  {
   "cell_type": "markdown",
   "id": "9a6ed670-475b-4cc0-bea4-c8989427b6f3",
   "metadata": {},
   "source": [
    "Melhor combinação encontrada:\n",
    "* previsores = 96% (C=2, kernel='rbf', random_state=5)\n",
    "* previsores_esc = 95% (C=2, kernel='poly', random_state=5)"
   ]
  },
  {
   "cell_type": "markdown",
   "id": "f8fa464c-5e67-477b-841b-9e659cf0386e",
   "metadata": {
    "tags": []
   },
   "source": [
    "### Validação cruzada"
   ]
  },
  {
   "cell_type": "markdown",
   "id": "492cb361-d631-43a1-adcb-bb186d08de2c",
   "metadata": {},
   "source": [
    "Validação cruzada é uma técnica para avaliar modelos de ML por meio de treinamento de vários modelos de ML em subconjuntos de dados de entrada disponíveis e avaliação deles no subconjunto complementar dos dados. Use a validação cruzada para detectar sobreajuste, ou seja, a não generalização de um padrão."
   ]
  },
  {
   "cell_type": "code",
   "execution_count": null,
   "id": "b6bc2ce8-50af-4ff0-add5-bf76cd8022cd",
   "metadata": {},
   "outputs": [],
   "source": [
    "from sklearn.model_selection import KFold, cross_val_score"
   ]
  },
  {
   "cell_type": "code",
   "execution_count": null,
   "id": "e17be44d-1689-4b55-b6b3-f1d9139ca73f",
   "metadata": {},
   "outputs": [],
   "source": [
    "kfold = KFold(n_splits=5, random_state=0, shuffle=True) # separando em folds"
   ]
  },
  {
   "cell_type": "code",
   "execution_count": null,
   "id": "181f3a9d-50dc-448d-a3ac-afedfd0096c3",
   "metadata": {},
   "outputs": [],
   "source": [
    "modelo = SVC(C=2, kernel='rbf', random_state=5) # modelo"
   ]
  },
  {
   "cell_type": "code",
   "execution_count": null,
   "id": "866db0fc-5983-4bd3-a5dc-2a9e81298ed1",
   "metadata": {},
   "outputs": [],
   "source": [
    "resultado = cross_val_score(modelo, previsores, alvo, cv=kfold) # acuracia em cada fold"
   ]
  },
  {
   "cell_type": "code",
   "execution_count": null,
   "id": "2817df3a-a895-4661-ac79-84bbe04104c3",
   "metadata": {},
   "outputs": [],
   "source": [
    "print('Acurácia média: {:.2f}%' .format(resultado.mean() * 100)) # media de todas as acuracias"
   ]
  },
  {
   "cell_type": "markdown",
   "id": "a199809d-1f0b-4d75-b456-3a4a9f19668d",
   "metadata": {},
   "source": [
    "Naive Bayes = 93.33% (treino e teste) e 95.33% (validação cruzada) - previsores ou previsores_esc\n",
    "\n",
    "SVM = 96.66% (treino e teste) e 95.33% (validação cruzada) - previsores"
   ]
  },
  {
   "cell_type": "markdown",
   "id": "624f6c87-6456-4b96-ada6-3b26f4bf1973",
   "metadata": {},
   "source": [
    "O valor de acurácia entre os modelos de treino e teste deve estar relativamente próximo ao da validação cruzada, caso contrário, a separação dos mesmos não foi feita adequadamente."
   ]
  },
  {
   "cell_type": "markdown",
   "id": "a4ccc68a-70f7-4d43-8ffe-3b11da7a158a",
   "metadata": {
    "tags": []
   },
   "source": [
    "# Regressão Logística"
   ]
  },
  {
   "cell_type": "markdown",
   "id": "1b8b34bf-1c00-4e62-906e-48a095f7a523",
   "metadata": {
    "tags": []
   },
   "source": [
    "### Treinamento"
   ]
  },
  {
   "cell_type": "code",
   "execution_count": null,
   "id": "f40b9f34-dae4-4feb-8347-fa7d753058d6",
   "metadata": {},
   "outputs": [],
   "source": [
    "from sklearn.linear_model import LogisticRegression"
   ]
  },
  {
   "cell_type": "code",
   "execution_count": null,
   "id": "6abce89a-8816-4863-bfc6-e4493134ec6c",
   "metadata": {},
   "outputs": [],
   "source": [
    "logistica = LogisticRegression(penalty='l2', tol=0.0001, C=2, random_state=5, solver='lbfgs', max_iter = 200) # nomeando algoritmo\n",
    "logistica.fit(x_treino, y_treino) # treinamento"
   ]
  },
  {
   "cell_type": "markdown",
   "id": "749c7ad7-99e8-46ec-be81-c1196ba32b19",
   "metadata": {
    "tags": []
   },
   "source": [
    "### Previsões com dados de teste"
   ]
  },
  {
   "cell_type": "code",
   "execution_count": null,
   "id": "013e796e-0d5d-40dd-8c2e-bb8ea5286394",
   "metadata": {},
   "outputs": [],
   "source": [
    "previsoes_logis = logistica.predict(x_teste) # prevendo dados de teste\n",
    "previsoes_logis"
   ]
  },
  {
   "cell_type": "code",
   "execution_count": null,
   "id": "ef0e7164-f970-446c-b7da-7cc0bc29251b",
   "metadata": {},
   "outputs": [],
   "source": [
    "accuracy_score(y_teste, previsoes_logis) # acuracia"
   ]
  },
  {
   "cell_type": "code",
   "execution_count": null,
   "id": "203b483b-a9f3-4859-a076-0fae690f101f",
   "metadata": {},
   "outputs": [],
   "source": [
    "confusion_matrix(y_teste, previsoes_logis) # matriz de confusao"
   ]
  },
  {
   "cell_type": "code",
   "execution_count": null,
   "id": "5b55a61c-418a-42b3-b79a-01ce3dda52d9",
   "metadata": {},
   "outputs": [],
   "source": [
    "print(classification_report(y_teste, previsoes_logis)) # relatorio"
   ]
  },
  {
   "cell_type": "markdown",
   "id": "c3fee814-f48c-4c8c-8ac1-e8192a85b645",
   "metadata": {
    "tags": []
   },
   "source": [
    "### Previsões com dados de treino"
   ]
  },
  {
   "cell_type": "code",
   "execution_count": null,
   "id": "2a41bab0-568e-4366-bdd7-fc5ce566bb6e",
   "metadata": {},
   "outputs": [],
   "source": [
    "previsoes_treino = logistica.predict(x_treino) # prevendo dados de treino"
   ]
  },
  {
   "cell_type": "code",
   "execution_count": null,
   "id": "6f2cdac3-f1ef-4130-9bc3-ce3a29f398fa",
   "metadata": {},
   "outputs": [],
   "source": [
    "accuracy_score(y_treino, previsoes_treino) # acuracia"
   ]
  },
  {
   "cell_type": "code",
   "execution_count": null,
   "id": "7733f7b1-47ea-465e-8d6b-ecdf310a504c",
   "metadata": {},
   "outputs": [],
   "source": [
    "confusion_matrix(y_treino, previsoes_treino) # matriz de confusao"
   ]
  },
  {
   "cell_type": "markdown",
   "id": "7aa1fa15-0ee4-452f-a586-f8b132a43cf9",
   "metadata": {},
   "source": [
    "Melhor combinação encontrada:\n",
    "* previsores = 98.33% (penalty='l2', tol=0.0001, C=2, random_state=5, solver='lbfgs', max_iter = 200)\n",
    "* previsores_esc = 98.33% (penalty='l1', tol=0.0001, C=2, random_state=5, solver='saga', max_iter = 100)"
   ]
  },
  {
   "cell_type": "markdown",
   "id": "e1759d47-271a-43f8-884a-b60986eb7752",
   "metadata": {
    "tags": []
   },
   "source": [
    "### Validação cruzada"
   ]
  },
  {
   "cell_type": "markdown",
   "id": "29064d97-7a46-4a01-aae5-d370ae2a08a1",
   "metadata": {},
   "source": [
    "Validação cruzada é uma técnica para avaliar modelos de ML por meio de treinamento de vários modelos de ML em subconjuntos de dados de entrada disponíveis e avaliação deles no subconjunto complementar dos dados. Use a validação cruzada para detectar sobreajuste, ou seja, a não generalização de um padrão."
   ]
  },
  {
   "cell_type": "code",
   "execution_count": null,
   "id": "4a1a2d55-aca9-4d80-93f4-732a83b85b97",
   "metadata": {},
   "outputs": [],
   "source": [
    "from sklearn.model_selection import KFold, cross_val_score"
   ]
  },
  {
   "cell_type": "code",
   "execution_count": null,
   "id": "12c6664e-13c2-4ff4-a13a-8f85debeb1ec",
   "metadata": {},
   "outputs": [],
   "source": [
    "kfold = KFold(n_splits=5, random_state=0, shuffle=True) # separando em folds"
   ]
  },
  {
   "cell_type": "code",
   "execution_count": null,
   "id": "d15d1c7f-03d9-4b48-bea1-01f6f9a23804",
   "metadata": {},
   "outputs": [],
   "source": [
    "modelo = LogisticRegression(penalty='l2', tol=0.0001, C=2, random_state=5, solver='lbfgs', max_iter = 200) # modelo"
   ]
  },
  {
   "cell_type": "code",
   "execution_count": null,
   "id": "06a560d4-9fb2-49d3-8d1f-d95273fcd836",
   "metadata": {},
   "outputs": [],
   "source": [
    "resultado = cross_val_score(modelo, previsores, alvo, cv=kfold) # acuracia em cada fold"
   ]
  },
  {
   "cell_type": "code",
   "execution_count": null,
   "id": "94590b66-a9f5-47ba-9437-0b5ffa661aae",
   "metadata": {},
   "outputs": [],
   "source": [
    "print('Acurácia média: {:.2f}%' .format(resultado.mean() * 100)) # media de todas as acuracias"
   ]
  },
  {
   "cell_type": "markdown",
   "id": "da42fc4b-be0d-460b-ae7e-52c9717f4c34",
   "metadata": {},
   "source": [
    "Naive Bayes = 93.33% (treino e teste) e 95.33% (validação cruzada) - previsores ou previsores_esc\n",
    "\n",
    "SVM = 96.66% (treino e teste) e 95.33% (validação cruzada) - previsores\n",
    "\n",
    "Regressão Logística = 98.33% (treino e teste) e 96% (validação cruzada) - previsores ou previsores_esc"
   ]
  },
  {
   "cell_type": "markdown",
   "id": "971094fc-a1f0-4ac9-a0ae-9876c6f9e6a2",
   "metadata": {},
   "source": [
    "O valor de acurácia entre os modelos de treino e teste deve estar relativamente próximo ao da validação cruzada, caso contrário, a separação dos mesmos não foi feita adequadamente."
   ]
  },
  {
   "cell_type": "markdown",
   "id": "e2342b3f-5013-41df-8b26-7e66a678f9e5",
   "metadata": {
    "tags": []
   },
   "source": [
    "# KNN "
   ]
  },
  {
   "cell_type": "markdown",
   "id": "2fcd3add-c794-421a-a280-934499da7744",
   "metadata": {
    "tags": []
   },
   "source": [
    "### Treinamento "
   ]
  },
  {
   "cell_type": "code",
   "execution_count": null,
   "id": "8a200a7c-0a10-4d8b-8845-22bb86805b31",
   "metadata": {},
   "outputs": [],
   "source": [
    "from sklearn.neighbors import KNeighborsClassifier"
   ]
  },
  {
   "cell_type": "code",
   "execution_count": null,
   "id": "41e2af6d-0fec-4df9-a57c-1c6ad2d02821",
   "metadata": {},
   "outputs": [],
   "source": [
    "knn = KNeighborsClassifier(n_neighbors=10, leaf_size=1, p=2, metric='minkowski') # nomeando algoritmo\n",
    "knn.fit(x_treino, y_treino) # treinamento"
   ]
  },
  {
   "cell_type": "markdown",
   "id": "dc8e409b-2c52-46a6-90d9-13610d3bb400",
   "metadata": {
    "tags": []
   },
   "source": [
    "### Previsões com dados de teste"
   ]
  },
  {
   "cell_type": "code",
   "execution_count": null,
   "id": "318619e7-04eb-45e2-b0a9-95b8465788f2",
   "metadata": {},
   "outputs": [],
   "source": [
    "previsoes_knn = knn.predict(x_teste) # prevendo com dados de teste\n",
    "previsoes_knn"
   ]
  },
  {
   "cell_type": "code",
   "execution_count": null,
   "id": "dda40a89-5a1b-42bb-b10f-e185404c9e05",
   "metadata": {},
   "outputs": [],
   "source": [
    "accuracy_score(y_teste, previsoes_knn) # acuracia"
   ]
  },
  {
   "cell_type": "code",
   "execution_count": null,
   "id": "cda30006-ae99-420c-a136-e9d73a472be8",
   "metadata": {},
   "outputs": [],
   "source": [
    "confusion_matrix(y_teste, previsoes_knn) # matriz de confusao"
   ]
  },
  {
   "cell_type": "code",
   "execution_count": null,
   "id": "3d1dbad8-7260-4e36-b134-90f0f3e36d4c",
   "metadata": {},
   "outputs": [],
   "source": [
    "print(classification_report(y_teste, previsoes_knn)) # relatorio"
   ]
  },
  {
   "cell_type": "markdown",
   "id": "73dc778c-8986-4626-898f-7a7109af6257",
   "metadata": {
    "tags": []
   },
   "source": [
    "### Previsões com dados de treino "
   ]
  },
  {
   "cell_type": "code",
   "execution_count": null,
   "id": "3010663b-de8d-4e98-b40d-1e54af6472f2",
   "metadata": {},
   "outputs": [],
   "source": [
    "previsoes_treino = knn.predict(x_treino) # prevendo dados de treino"
   ]
  },
  {
   "cell_type": "code",
   "execution_count": null,
   "id": "b510fa26-eea2-4cfe-95e3-3da398526ceb",
   "metadata": {},
   "outputs": [],
   "source": [
    "accuracy_score(y_treino, previsoes_treino) # acuracia"
   ]
  },
  {
   "cell_type": "code",
   "execution_count": null,
   "id": "cbafded9-442e-4f84-a096-59088864d982",
   "metadata": {},
   "outputs": [],
   "source": [
    "confusion_matrix(y_treino, previsoes_treino) # matriz de confusao"
   ]
  },
  {
   "cell_type": "markdown",
   "id": "84fed198-e699-4e5b-ad53-0da84d62f7d6",
   "metadata": {},
   "source": [
    "Melhor combinação encontrada:\n",
    "* previsores = 96.66% (n_neighbors=7, leaf_size=1, p=2, metric='minkowski')\n",
    "* previsores_esc = 96.66% (n_neighbors=10, leaf_size=1, p=2, metric='minkowski')"
   ]
  },
  {
   "cell_type": "markdown",
   "id": "a3fcc3a4-f9eb-4366-ac1e-613bbd36e65e",
   "metadata": {
    "tags": []
   },
   "source": [
    "### Validação cruzada"
   ]
  },
  {
   "cell_type": "markdown",
   "id": "ff98dae1-932a-4a0a-8848-23e0dd00f320",
   "metadata": {},
   "source": [
    "Validação cruzada é uma técnica para avaliar modelos de ML por meio de treinamento de vários modelos de ML em subconjuntos de dados de entrada disponíveis e avaliação deles no subconjunto complementar dos dados. Use a validação cruzada para detectar sobreajuste, ou seja, a não generalização de um padrão."
   ]
  },
  {
   "cell_type": "code",
   "execution_count": null,
   "id": "d5877cf2-b44b-49bd-b7f1-130898715734",
   "metadata": {},
   "outputs": [],
   "source": [
    "from sklearn.model_selection import KFold, cross_val_score"
   ]
  },
  {
   "cell_type": "code",
   "execution_count": null,
   "id": "26a75f39-a475-48bc-99e3-d6650717c7b2",
   "metadata": {},
   "outputs": [],
   "source": [
    "kfold = KFold(n_splits=5, random_state=0, shuffle=True) # separando em folds"
   ]
  },
  {
   "cell_type": "code",
   "execution_count": null,
   "id": "676757df-35cb-4458-9419-43abf09c235e",
   "metadata": {},
   "outputs": [],
   "source": [
    "modelo = KNeighborsClassifier(n_neighbors=7, leaf_size=1, p=2, metric='minkowski') # modelo"
   ]
  },
  {
   "cell_type": "code",
   "execution_count": null,
   "id": "4fcd3da8-6f53-4440-b711-ddc338128d9f",
   "metadata": {},
   "outputs": [],
   "source": [
    "resultado = cross_val_score(modelo, previsores, alvo, cv=kfold) # acuracia em cada fold"
   ]
  },
  {
   "cell_type": "code",
   "execution_count": null,
   "id": "b9715884-8d10-4552-849f-69d156c43522",
   "metadata": {},
   "outputs": [],
   "source": [
    "print('Acurácia média: {:.2f}%' .format(resultado.mean() * 100)) # media de todas as acuracias"
   ]
  },
  {
   "cell_type": "markdown",
   "id": "f0c6240f-163f-4c0d-9939-34d2fa549a32",
   "metadata": {},
   "source": [
    "Naive Bayes = 93.33% (treino e teste) e 95.33% (validação cruzada) - previsores ou previsores_esc\n",
    "\n",
    "SVM = 96.66% (treino e teste) e 95.33% (validação cruzada) - previsores\n",
    "\n",
    "Regressão Logística = 98.33% (treino e teste) e 96% (validação cruzada) - previsores ou previsores_esc\n",
    "\n",
    "KNN = 96.66% (treino e teste) e 95.33% (validação cruzada) - previsores ou previsores_esc"
   ]
  },
  {
   "cell_type": "markdown",
   "id": "a5c2ce2e-e73e-40b6-a2a3-36cdc1d1a058",
   "metadata": {},
   "source": [
    "O valor de acurácia entre os modelos de treino e teste deve estar relativamente próximo ao da validação cruzada, caso contrário, a separação dos mesmos não foi feita adequadamente."
   ]
  },
  {
   "cell_type": "markdown",
   "id": "c56ee0fd-cde2-4742-bbd0-e088b469f979",
   "metadata": {
    "tags": []
   },
   "source": [
    "# Árvore de Decisão"
   ]
  },
  {
   "cell_type": "markdown",
   "id": "8d33a21c-87a1-4ba4-b5f4-e60eb1991551",
   "metadata": {
    "tags": []
   },
   "source": [
    "### Treinamento"
   ]
  },
  {
   "cell_type": "code",
   "execution_count": null,
   "id": "e634aba6-aaf3-41ad-8d6e-39dc03442fa7",
   "metadata": {},
   "outputs": [],
   "source": [
    "from sklearn.tree import DecisionTreeClassifier"
   ]
  },
  {
   "cell_type": "code",
   "execution_count": null,
   "id": "2a58bca3-e987-4421-a81c-38382e4f807a",
   "metadata": {},
   "outputs": [],
   "source": [
    "tree = DecisionTreeClassifier(random_state=5, criterion='gini', max_depth=2) # nomeando algoritmo\n",
    "tree.fit(x_treino, y_treino) # treinamento"
   ]
  },
  {
   "cell_type": "markdown",
   "id": "5cc7a3f0-9066-496c-b259-741a8d4a8683",
   "metadata": {
    "tags": []
   },
   "source": [
    "### Previsões com dados de teste"
   ]
  },
  {
   "cell_type": "code",
   "execution_count": null,
   "id": "b261a634-8435-4740-b9d0-5ac9dc81fe3e",
   "metadata": {},
   "outputs": [],
   "source": [
    "previsoes_tree = tree.predict(x_teste) # prevendo dados de teste\n",
    "previsoes_tree"
   ]
  },
  {
   "cell_type": "code",
   "execution_count": null,
   "id": "07c64a65-314f-45f6-97ba-e15a8e5e6d66",
   "metadata": {},
   "outputs": [],
   "source": [
    "accuracy_score(y_teste, previsoes_tree) # acuracia"
   ]
  },
  {
   "cell_type": "code",
   "execution_count": null,
   "id": "429bcfe4-e0d3-4601-86f5-28decb090a62",
   "metadata": {},
   "outputs": [],
   "source": [
    "confusion_matrix(y_teste, previsoes_tree) # matriz de confusao"
   ]
  },
  {
   "cell_type": "code",
   "execution_count": null,
   "id": "3ab17875-5273-4baf-a2b0-a21bacf2475e",
   "metadata": {},
   "outputs": [],
   "source": [
    "print(classification_report(y_teste, previsoes_tree)) # relatorio"
   ]
  },
  {
   "cell_type": "markdown",
   "id": "819b48ff-911b-45c6-8459-6c88b506cd8c",
   "metadata": {
    "tags": []
   },
   "source": [
    "### Previsões com dados de treino "
   ]
  },
  {
   "cell_type": "code",
   "execution_count": null,
   "id": "27011a02-fee6-44b5-a651-463a6795c605",
   "metadata": {},
   "outputs": [],
   "source": [
    "previsoes_treino = tree.predict(x_treino) # prevendo com dados de treino"
   ]
  },
  {
   "cell_type": "code",
   "execution_count": null,
   "id": "ef9597ae-c286-4795-a8ae-bbc30e9fb5b9",
   "metadata": {},
   "outputs": [],
   "source": [
    "accuracy_score(y_treino, previsoes_treino) # acuracia"
   ]
  },
  {
   "cell_type": "code",
   "execution_count": null,
   "id": "38df6990-4846-484e-bbd3-ece2c233df1f",
   "metadata": {},
   "outputs": [],
   "source": [
    "confusion_matrix(y_treino, previsoes_treino) # matriz de confusao"
   ]
  },
  {
   "cell_type": "markdown",
   "id": "d42c7d29-7411-408f-8817-4e0446dd494f",
   "metadata": {},
   "source": [
    "Melhor combinação encontrada:\n",
    "* previsores = 93.33% (random_state=5, criterion='gini', max_depth=2)\n",
    "* previsores_esc = 93.33% (random_state=5, criterion='gini', max_depth=2)"
   ]
  },
  {
   "cell_type": "markdown",
   "id": "ea76ca75-3e08-4e60-9a56-ec27befd5388",
   "metadata": {
    "tags": []
   },
   "source": [
    "### Validação cruzada "
   ]
  },
  {
   "cell_type": "markdown",
   "id": "2ddcb0f9-6466-4652-8c07-f01e98f4a425",
   "metadata": {},
   "source": [
    "Validação cruzada é uma técnica para avaliar modelos de ML por meio de treinamento de vários modelos de ML em subconjuntos de dados de entrada disponíveis e avaliação deles no subconjunto complementar dos dados. Use a validação cruzada para detectar sobreajuste, ou seja, a não generalização de um padrão."
   ]
  },
  {
   "cell_type": "code",
   "execution_count": null,
   "id": "1d72160e-45c9-4125-ba10-2d4e23d37b6f",
   "metadata": {},
   "outputs": [],
   "source": [
    "from sklearn.model_selection import KFold, cross_val_score"
   ]
  },
  {
   "cell_type": "code",
   "execution_count": null,
   "id": "d6c312ca-7548-4563-b66d-a591264a2947",
   "metadata": {},
   "outputs": [],
   "source": [
    "kfold = KFold(n_splits=5, random_state=0, shuffle=True) # separando em folds"
   ]
  },
  {
   "cell_type": "code",
   "execution_count": null,
   "id": "fdd9caef-62c8-4425-8403-6194a5d6e3d8",
   "metadata": {},
   "outputs": [],
   "source": [
    "modelo = DecisionTreeClassifier(random_state=5, criterion='gini', max_depth=2) # modelo"
   ]
  },
  {
   "cell_type": "code",
   "execution_count": null,
   "id": "36ff5124-ecc3-4cd5-8d47-a18f9e1569f0",
   "metadata": {},
   "outputs": [],
   "source": [
    "resultado = cross_val_score(modelo, previsores, alvo, cv=kfold) # acuracia em cada fold"
   ]
  },
  {
   "cell_type": "code",
   "execution_count": null,
   "id": "cad69c6c-66ed-4ce7-83d6-b09d1bae5607",
   "metadata": {},
   "outputs": [],
   "source": [
    "print('Acurácia média: {:.2f}%' .format(resultado.mean() * 100)) # media de todas as acuracias"
   ]
  },
  {
   "cell_type": "markdown",
   "id": "551989a1-74d0-4a2e-a624-f4b4e836bc20",
   "metadata": {},
   "source": [
    "Naive Bayes = 93.33% (treino e teste) e 95.33% (validação cruzada) - previsores ou previsores_esc\n",
    "\n",
    "SVM = 96.66% (treino e teste) e 95.33% (validação cruzada) - previsores\n",
    "\n",
    "Regressão Logística = 98.33% (treino e teste) e 96% (validação cruzada) - previsores ou previsores_esc\n",
    "\n",
    "KNN = 96.66% (treino e teste) e 95.33% (validação cruzada) - previsores ou previsores_esc\n",
    "\n",
    "Árvore de Decisão = 93.33% (treino e teste) e 94.67% (validação cruzada) - previsores ou previsores_esc"
   ]
  },
  {
   "cell_type": "markdown",
   "id": "30daa805-5b0e-4de2-be04-5b9d035b87b5",
   "metadata": {},
   "source": [
    "O valor de acurácia entre os modelos de treino e teste deve estar relativamente próximo ao da validação cruzada, caso contrário, a separação dos mesmos não foi feita adequadamente."
   ]
  },
  {
   "cell_type": "markdown",
   "id": "d0da4824-57d8-429d-8dc0-0ae20d0f1fde",
   "metadata": {
    "tags": []
   },
   "source": [
    "# Random Forest"
   ]
  },
  {
   "cell_type": "markdown",
   "id": "48c500d5-2e5f-4bd7-996e-af0c60afd630",
   "metadata": {
    "tags": []
   },
   "source": [
    "### Treinamento "
   ]
  },
  {
   "cell_type": "code",
   "execution_count": null,
   "id": "dbf979fb-2834-4d9e-88a1-087bbde42df0",
   "metadata": {},
   "outputs": [],
   "source": [
    "from sklearn.ensemble import RandomForestClassifier"
   ]
  },
  {
   "cell_type": "code",
   "execution_count": null,
   "id": "46613065-417a-4849-b0e1-a3f530c666af",
   "metadata": {},
   "outputs": [],
   "source": [
    "random_b = RandomForestClassifier(n_estimators=10, criterion='gini', max_depth=2, random_state=5) # nomeando algoritmo\n",
    "random_b.fit(x_treino, y_treino) # treinamento"
   ]
  },
  {
   "cell_type": "markdown",
   "id": "0c1fbe26-7266-41d4-8c49-79640ff93f90",
   "metadata": {
    "tags": []
   },
   "source": [
    "### Previsões com dados de teste "
   ]
  },
  {
   "cell_type": "code",
   "execution_count": null,
   "id": "f1984e80-5699-40dc-94e5-6e66bb9c3fb7",
   "metadata": {},
   "outputs": [],
   "source": [
    "previsoes_rb = random_b.predict(x_teste) # prevendo dados de teste\n",
    "previsoes_rb"
   ]
  },
  {
   "cell_type": "code",
   "execution_count": null,
   "id": "24021938-8c57-4101-bb14-8a41b0690229",
   "metadata": {},
   "outputs": [],
   "source": [
    "accuracy_score(y_teste, previsoes_rb) # acuracia"
   ]
  },
  {
   "cell_type": "code",
   "execution_count": null,
   "id": "72f370bf-dfe5-45ee-a044-ceb2995ac7b2",
   "metadata": {},
   "outputs": [],
   "source": [
    "confusion_matrix(y_teste, previsoes_rb) # matriz de confusao"
   ]
  },
  {
   "cell_type": "code",
   "execution_count": null,
   "id": "769bbe87-080f-438c-9ed9-0ee7b4f83d56",
   "metadata": {},
   "outputs": [],
   "source": [
    "print(classification_report(y_teste, previsoes_rb)) # relatorio"
   ]
  },
  {
   "cell_type": "markdown",
   "id": "a7b9f4eb-a579-4cd8-b9eb-f52dac6351dd",
   "metadata": {
    "tags": []
   },
   "source": [
    "### Previsões com dados de treino "
   ]
  },
  {
   "cell_type": "code",
   "execution_count": null,
   "id": "6e85994f-4787-4c70-ab75-e9a2a5274d3b",
   "metadata": {},
   "outputs": [],
   "source": [
    "previsoes_treino = random_b.predict(x_treino) # prevendo dados de treino"
   ]
  },
  {
   "cell_type": "code",
   "execution_count": null,
   "id": "345de0be-23b7-4240-8249-99ee925557d0",
   "metadata": {},
   "outputs": [],
   "source": [
    "accuracy_score(y_treino, previsoes_treino) # acuracia"
   ]
  },
  {
   "cell_type": "code",
   "execution_count": null,
   "id": "07f10ed4-a21a-4c6c-84b6-dda07e7cf4ed",
   "metadata": {},
   "outputs": [],
   "source": [
    "confusion_matrix(y_treino, previsoes_treino) # matriz de confusao"
   ]
  },
  {
   "cell_type": "markdown",
   "id": "1603d49d-ca3a-41a5-8d3d-228c3f25496b",
   "metadata": {},
   "source": [
    "Melhor combinação encontrada:\n",
    "* previsores = 93.33% (n_estimators=10, criterion='gini', max_depth=2, random_state=5)\n",
    "* previsores_esc = 95% (n_estimators=10, criterion='gini', max_depth=2, random_state=5)"
   ]
  },
  {
   "cell_type": "markdown",
   "id": "0e62555c-6219-4e37-afdc-77ffec4d9162",
   "metadata": {
    "tags": []
   },
   "source": [
    "### Validação cruzada "
   ]
  },
  {
   "cell_type": "markdown",
   "id": "19184e11-56a2-4b6b-802a-5d7990723ced",
   "metadata": {},
   "source": [
    "Validação cruzada é uma técnica para avaliar modelos de ML por meio de treinamento de vários modelos de ML em subconjuntos de dados de entrada disponíveis e avaliação deles no subconjunto complementar dos dados. Use a validação cruzada para detectar sobreajuste, ou seja, a não generalização de um padrão."
   ]
  },
  {
   "cell_type": "code",
   "execution_count": null,
   "id": "0f52160d-4b5e-4614-b397-7e7a4d60bdeb",
   "metadata": {},
   "outputs": [],
   "source": [
    "from sklearn.model_selection import KFold, cross_val_score"
   ]
  },
  {
   "cell_type": "code",
   "execution_count": null,
   "id": "cd1a9dca-ad91-47bf-b453-413013c88e56",
   "metadata": {},
   "outputs": [],
   "source": [
    "kfold = KFold(n_splits=5, random_state=0, shuffle=True) # separando em folds"
   ]
  },
  {
   "cell_type": "code",
   "execution_count": null,
   "id": "4e8402fe-ce22-49aa-8ec7-e10cec84b6d0",
   "metadata": {},
   "outputs": [],
   "source": [
    "modelo = RandomForestClassifier(n_estimators=10, criterion='gini', max_depth=2, random_state=5) # modelo"
   ]
  },
  {
   "cell_type": "code",
   "execution_count": null,
   "id": "091beb3d-52c9-439c-b248-e1cf2860ff28",
   "metadata": {},
   "outputs": [],
   "source": [
    "resultado = cross_val_score(modelo, previsores_esc, alvo, cv=kfold) # acuracia em cada fold"
   ]
  },
  {
   "cell_type": "code",
   "execution_count": null,
   "id": "073c2d5d-86c8-41ec-bbb0-b98a53c172ca",
   "metadata": {},
   "outputs": [],
   "source": [
    "print('Acurácia média: {:.2f}%' .format(resultado.mean() * 100)) # media de todas as acuracias"
   ]
  },
  {
   "cell_type": "markdown",
   "id": "36b9773b-32a2-4141-8bc8-4b2177acc505",
   "metadata": {},
   "source": [
    "Naive Bayes = 93.33% (treino e teste) e 95.33% (validação cruzada) - previsores ou previsores_esc\n",
    "\n",
    "SVM = 96.66% (treino e teste) e 95.33% (validação cruzada) - previsores\n",
    "\n",
    "Regressão Logística = 98.33% (treino e teste) e 96% (validação cruzada) - previsores ou previsores_esc\n",
    "\n",
    "KNN = 96.66% (treino e teste) e 95.33% (validação cruzada) - previsores ou previsores_esc\n",
    "\n",
    "Árvore de Decisão = 93.33% (treino e teste) e 94.67% (validação cruzada) - previsores ou previsores_esc\n",
    "\n",
    "Random Forest = 95% (treino e teste) e 96% (validação cruzada) - previsores_esc"
   ]
  },
  {
   "cell_type": "markdown",
   "id": "3de44278-9e14-48d8-a07a-a0cc39acb7dd",
   "metadata": {},
   "source": [
    "O valor de acurácia entre os modelos de treino e teste deve estar relativamente próximo ao da validação cruzada, caso contrário, a separação dos mesmos não foi feita adequadamente."
   ]
  },
  {
   "cell_type": "markdown",
   "id": "711a28bc-5a96-440b-a0ec-cfadf9b54e48",
   "metadata": {
    "tags": []
   },
   "source": [
    "# XGBoost "
   ]
  },
  {
   "cell_type": "markdown",
   "id": "7c5c8cab-27cb-448d-a0d6-5068a719d3e9",
   "metadata": {
    "tags": []
   },
   "source": [
    "### Treinamento"
   ]
  },
  {
   "cell_type": "code",
   "execution_count": null,
   "id": "2d84fb0b-a492-453c-b69e-cc8080c7d7e8",
   "metadata": {},
   "outputs": [],
   "source": [
    "from xgboost import XGBClassifier"
   ]
  },
  {
   "cell_type": "code",
   "execution_count": null,
   "id": "7732795f-f574-4076-811f-3b1cbf591523",
   "metadata": {},
   "outputs": [],
   "source": [
    "xgb = XGBClassifier(learning_rate=0.1, random_state=5, n_estimators=10, objective='binary:logistic', max_depth=2) # nomeando algoritmo\n",
    "xgb.fit(x_treino, y_treino) # treinamento"
   ]
  },
  {
   "cell_type": "markdown",
   "id": "a579b6fc-fe20-476e-8d87-f902909863ab",
   "metadata": {
    "tags": []
   },
   "source": [
    "### Previsões com dados de teste"
   ]
  },
  {
   "cell_type": "code",
   "execution_count": null,
   "id": "e0ebe954-a157-4bd9-9dc5-b42df0a586ca",
   "metadata": {},
   "outputs": [],
   "source": [
    "previsoes_xgb = xgb.predict(x_teste) # prevendo dados de teste\n",
    "previsoes_xgb"
   ]
  },
  {
   "cell_type": "code",
   "execution_count": null,
   "id": "9d32c0fd-155b-4b6f-af0b-57b998dfbf67",
   "metadata": {},
   "outputs": [],
   "source": [
    "accuracy_score(y_teste, previsoes_xgb) # acuracia"
   ]
  },
  {
   "cell_type": "code",
   "execution_count": null,
   "id": "7b7b8cab-732a-4742-9049-ba83b844e0f2",
   "metadata": {},
   "outputs": [],
   "source": [
    "confusion_matrix(y_teste, previsoes_xgb) # matriz de confusao"
   ]
  },
  {
   "cell_type": "code",
   "execution_count": null,
   "id": "75ab4b2d-5956-4a2e-8a0f-f8ec7a1de1b4",
   "metadata": {},
   "outputs": [],
   "source": [
    "print(classification_report(y_teste, previsoes_xgb)) # relatorio"
   ]
  },
  {
   "cell_type": "markdown",
   "id": "66e65625-21be-48cc-a40c-38998ddb729d",
   "metadata": {
    "tags": []
   },
   "source": [
    "### Previsões com dados de treino "
   ]
  },
  {
   "cell_type": "code",
   "execution_count": null,
   "id": "489c2e07-5771-4872-9f8c-a5c95f6670d8",
   "metadata": {},
   "outputs": [],
   "source": [
    "previsoes_treino = xgb.predict(x_treino) # prevendo dados de treino"
   ]
  },
  {
   "cell_type": "code",
   "execution_count": null,
   "id": "93b00a7d-5362-43a3-b721-e8a3151250a7",
   "metadata": {},
   "outputs": [],
   "source": [
    "accuracy_score(y_treino, previsoes_treino) # acuracia"
   ]
  },
  {
   "cell_type": "code",
   "execution_count": null,
   "id": "c3453a88-4ece-4de6-9839-f7eec2f447b8",
   "metadata": {},
   "outputs": [],
   "source": [
    "confusion_matrix(y_treino, previsoes_treino) # matriz de confusao"
   ]
  },
  {
   "cell_type": "markdown",
   "id": "c451c9e6-11bc-451b-8496-a85396bfbc71",
   "metadata": {},
   "source": [
    "Melhor combinação encontrada:\n",
    "* previsores = 93.33% (learning_rate=0.05, random_state=5, n_estimators=10, objective='binary:logistic', max_depth=2)\n",
    "* previsores_esc = 93.33% (learning_rate=0.1, random_state=5, n_estimators=10, objective='binary:logistic', max_depth=2)"
   ]
  },
  {
   "cell_type": "markdown",
   "id": "b8710bcf-6dd2-46ba-81a3-57f499037c1f",
   "metadata": {
    "tags": []
   },
   "source": [
    "### Validação cruzada "
   ]
  },
  {
   "cell_type": "markdown",
   "id": "132cb52c-ff6f-4a98-89ea-97e1cc523469",
   "metadata": {},
   "source": [
    "Validação cruzada é uma técnica para avaliar modelos de ML por meio de treinamento de vários modelos de ML em subconjuntos de dados de entrada disponíveis e avaliação deles no subconjunto complementar dos dados. Use a validação cruzada para detectar sobreajuste, ou seja, a não generalização de um padrão."
   ]
  },
  {
   "cell_type": "code",
   "execution_count": null,
   "id": "de4ac873-2450-448d-9bb2-74156e2edbb0",
   "metadata": {},
   "outputs": [],
   "source": [
    "from sklearn.model_selection import KFold, cross_val_score"
   ]
  },
  {
   "cell_type": "code",
   "execution_count": null,
   "id": "84678ce2-8f66-4b3e-af5f-80c41125d938",
   "metadata": {},
   "outputs": [],
   "source": [
    "kfold = KFold(n_splits=5, random_state=0, shuffle=True) # separando em folds"
   ]
  },
  {
   "cell_type": "code",
   "execution_count": null,
   "id": "6535c0c3-1886-42c7-8a77-7a7edeacab1c",
   "metadata": {},
   "outputs": [],
   "source": [
    "modelo = XGBClassifier(learning_rate=0.1, random_state=5, n_estimators=10, objective='binary:logistic', max_depth=2) # modelo"
   ]
  },
  {
   "cell_type": "code",
   "execution_count": null,
   "id": "c31c2cfc-8b78-446c-a10a-bac48f5a5155",
   "metadata": {},
   "outputs": [],
   "source": [
    "resultado = cross_val_score(modelo, previsores, alvo, cv=kfold) # acuracia em cada fold"
   ]
  },
  {
   "cell_type": "code",
   "execution_count": null,
   "id": "4f85d52c-02dc-4bad-9c9d-0829545b3c52",
   "metadata": {},
   "outputs": [],
   "source": [
    "print('Acurácia média: {:.2f}%' .format(resultado.mean() * 100)) # media de todas as acuracias"
   ]
  },
  {
   "cell_type": "markdown",
   "id": "bddad80f-2c75-4c95-8676-175b173f540c",
   "metadata": {},
   "source": [
    "Naive Bayes = 93.33% (treino e teste) e 95.33% (validação cruzada) - previsores ou previsores_esc\n",
    "\n",
    "SVM = 96.66% (treino e teste) e 95.33% (validação cruzada) - previsores\n",
    "\n",
    "Regressão Logística = 98.33% (treino e teste) e 96% (validação cruzada) - previsores ou previsores_esc\n",
    "\n",
    "KNN = 96.66% (treino e teste) e 95.33% (validação cruzada) - previsores ou previsores_esc\n",
    "\n",
    "Árvore de Decisão = 93.33% (treino e teste) e 94.67% (validação cruzada) - previsores ou previsores_esc\n",
    "\n",
    "Random Forest = 95% (treino e teste) e 96% (validação cruzada) - previsores_esc\n",
    "\n",
    "XGBoost = 93.33% (treino e teste) e 94.67% (validação cruzada) - previsores ou previsores_esc"
   ]
  },
  {
   "cell_type": "markdown",
   "id": "293179f1-87d0-421b-a75f-87867174fdfb",
   "metadata": {},
   "source": [
    "O valor de acurácia entre os modelos de treino e teste deve estar relativamente próximo ao da validação cruzada, caso contrário, a separação dos mesmos não foi feita adequadamente."
   ]
  },
  {
   "cell_type": "markdown",
   "id": "79677fdd-e0c1-4530-86bf-6880789b8686",
   "metadata": {
    "tags": []
   },
   "source": [
    "# LightGBM "
   ]
  },
  {
   "cell_type": "markdown",
   "id": "89b53671-ecc6-409f-af19-4a7d8edc9b62",
   "metadata": {
    "tags": []
   },
   "source": [
    "### Treinamento "
   ]
  },
  {
   "cell_type": "code",
   "execution_count": null,
   "id": "683cae46-0b11-45a8-abc5-cbb0160c60a4",
   "metadata": {},
   "outputs": [],
   "source": [
    "import lightgbm as lgb"
   ]
  },
  {
   "cell_type": "code",
   "execution_count": null,
   "id": "2bd6a331-d770-48a9-bbe1-42e51574b443",
   "metadata": {},
   "outputs": [],
   "source": [
    "dataset = lgb.Dataset(x_treino, label=y_treino) # especificando dataset de treino"
   ]
  },
  {
   "cell_type": "code",
   "execution_count": null,
   "id": "cac377d1-02ca-49e4-bec3-05d846bb7a4e",
   "metadata": {},
   "outputs": [],
   "source": [
    "parametros ={'num_leaves':100, # número de folhas\n",
    "            'objective':'binary', # classificaçã binária\n",
    "            'max_depth':2,\n",
    "            'learning_rate':.1,\n",
    "            'max_bin': 200,\n",
    "            'force_col_wise': True}"
   ]
  },
  {
   "cell_type": "code",
   "execution_count": null,
   "id": "0cb81389-3f92-4250-a7b0-68ac773a1c71",
   "metadata": {},
   "outputs": [],
   "source": [
    "lgbm = lgb.train(parametros, dataset, num_boost_round=150) # treinamento"
   ]
  },
  {
   "cell_type": "markdown",
   "id": "65048937-1a7a-4e74-a56d-e8afb228b65a",
   "metadata": {
    "tags": []
   },
   "source": [
    "### Previsões dos dados de teste "
   ]
  },
  {
   "cell_type": "code",
   "execution_count": null,
   "id": "4844e00b-3c37-4778-ad1c-7ef5028c9f96",
   "metadata": {},
   "outputs": [],
   "source": [
    "previsoes_lgbm = lgbm.predict(x_teste) # prevendo dados de teste\n",
    "previsoes_lgbm"
   ]
  },
  {
   "cell_type": "markdown",
   "id": "7ea48af5-900e-403b-a25f-a1dc30ba7333",
   "metadata": {},
   "source": [
    "Perceba que os valores estão diferentes, a saída não esta sendo mais 1 ou 0. Para resolver isso, temos que configurar da seguinte forma:\n",
    " * Quando o valor for maior ou igual a 0.5, então 1, caso seja menor, então 0."
   ]
  },
  {
   "cell_type": "code",
   "execution_count": null,
   "id": "dc06d96c-3f45-4edb-8188-e55371003835",
   "metadata": {},
   "outputs": [],
   "source": [
    "previsoes_lgbm.shape # tamanho"
   ]
  },
  {
   "cell_type": "code",
   "execution_count": null,
   "id": "f41c249d-c157-4424-9d55-eac87ce99b1e",
   "metadata": {},
   "outputs": [],
   "source": [
    "# fazendo as devidas alterações\n",
    "for i in range(0,60):\n",
    "    if previsoes_lgbm[i] >= .5:\n",
    "        previsoes_lgbm[i] = 1\n",
    "    else:\n",
    "        previsoes_lgbm[i] = 0\n",
    "        \n",
    "previsoes_lgbm"
   ]
  },
  {
   "cell_type": "code",
   "execution_count": null,
   "id": "978aeee8-3984-4b2d-a143-336c0f1917d4",
   "metadata": {},
   "outputs": [],
   "source": [
    "accuracy_score(y_teste, previsoes_lgbm) # acuracia"
   ]
  },
  {
   "cell_type": "code",
   "execution_count": null,
   "id": "73351b85-a204-47d7-a133-92ba6e92e1ee",
   "metadata": {},
   "outputs": [],
   "source": [
    "confusion_matrix(y_teste, previsoes_lgbm) # matriz de confusao"
   ]
  },
  {
   "cell_type": "code",
   "execution_count": null,
   "id": "2a217c34-c02e-4a20-97d1-90a75c3386f0",
   "metadata": {},
   "outputs": [],
   "source": [
    "print(classification_report(y_teste, previsoes_lgbm)) # relatorio"
   ]
  },
  {
   "cell_type": "markdown",
   "id": "a5642179-3492-4e68-87d8-9413ee8d55f2",
   "metadata": {
    "tags": []
   },
   "source": [
    "### Previsões com dados de treino"
   ]
  },
  {
   "cell_type": "code",
   "execution_count": null,
   "id": "6994ceb2-be37-443d-9190-3e5162497f34",
   "metadata": {},
   "outputs": [],
   "source": [
    "previsoes_treino = lgbm.predict(x_treino) # prevendo dados de treino\n",
    "previsoes_treino"
   ]
  },
  {
   "cell_type": "code",
   "execution_count": null,
   "id": "74363134-f329-4976-ba3e-35cc51a0e8a5",
   "metadata": {},
   "outputs": [],
   "source": [
    "previsoes_treino.shape # tamanho"
   ]
  },
  {
   "cell_type": "code",
   "execution_count": null,
   "id": "ef172354-1597-43fe-9100-3763fddc266c",
   "metadata": {},
   "outputs": [],
   "source": [
    "# fazendo as mesmas alteraçoes feitas ante, so que agora com dados de treino\n",
    "for i in range(0,90):\n",
    "    if previsoes_treino[i] >= .5:\n",
    "        previsoes_treino[i] = 1\n",
    "    else:\n",
    "        previsoes_treino[i] = 0\n",
    "        \n",
    "previsoes_treino"
   ]
  },
  {
   "cell_type": "code",
   "execution_count": null,
   "id": "db8ec22c-1231-4dd5-a047-e32f575258ad",
   "metadata": {},
   "outputs": [],
   "source": [
    "accuracy_score(y_treino, previsoes_treino) # acuracia"
   ]
  },
  {
   "cell_type": "markdown",
   "id": "e3374e80-18fb-423f-9d78-546f60c1def8",
   "metadata": {},
   "source": [
    "* previsores = 70% \n",
    "* previsores_esc = 70%"
   ]
  },
  {
   "cell_type": "markdown",
   "id": "0e66a45b-800b-45f4-ad7d-f9ff2520f38c",
   "metadata": {
    "tags": []
   },
   "source": [
    "### Validação cruzada "
   ]
  },
  {
   "cell_type": "markdown",
   "id": "394855b6-f868-463a-87be-1b3a5df93f4a",
   "metadata": {},
   "source": [
    "Validação cruzada é uma técnica para avaliar modelos de ML por meio de treinamento de vários modelos de ML em subconjuntos de dados de entrada disponíveis e avaliação deles no subconjunto complementar dos dados. Use a validação cruzada para detectar sobreajuste, ou seja, a não generalização de um padrão."
   ]
  },
  {
   "cell_type": "code",
   "execution_count": null,
   "id": "c3adffc7-a670-4094-8c8d-48369f03c30d",
   "metadata": {},
   "outputs": [],
   "source": [
    "from sklearn.model_selection import KFold, cross_val_score"
   ]
  },
  {
   "cell_type": "code",
   "execution_count": null,
   "id": "52eb6234-cd58-4355-a25b-e2deb801900e",
   "metadata": {},
   "outputs": [],
   "source": [
    "kfold = KFold(n_splits=5, random_state=0, shuffle=True) # separando em folds"
   ]
  },
  {
   "cell_type": "code",
   "execution_count": null,
   "id": "d89fc512-577e-4861-a251-55056672a3ca",
   "metadata": {},
   "outputs": [],
   "source": [
    "modelo = lgb.LGBMClassifier(num_leaves=100, objective='binary', max_depth=2, \n",
    "                            learning_rate=.1, max_bin=200, force_col_wise=True) # modelo"
   ]
  },
  {
   "cell_type": "code",
   "execution_count": null,
   "id": "871d913e-910c-4490-a23e-57185396e32f",
   "metadata": {},
   "outputs": [],
   "source": [
    "resultado = cross_val_score(modelo, previsores, alvo, cv=kfold) # acuracia em cada fold"
   ]
  },
  {
   "cell_type": "code",
   "execution_count": null,
   "id": "9f659b85-a36d-4ed8-b28c-a32a93b56e8d",
   "metadata": {},
   "outputs": [],
   "source": [
    "print('Acurácia média: {:.2f}%' .format(resultado.mean() * 100)) # media de todas as acuracias"
   ]
  },
  {
   "cell_type": "markdown",
   "id": "f4004336-bcde-4545-aac0-2ad723bc05f9",
   "metadata": {},
   "source": [
    "Naive Bayes = 93.33% (treino e teste) e 95.33% (validação cruzada) - previsores ou previsores_esc\n",
    "\n",
    "SVM = 96.66% (treino e teste) e 95.33% (validação cruzada) - previsores\n",
    "\n",
    "Regressão Logística = 98.33% (treino e teste) e 96% (validação cruzada) - previsores ou previsores_esc\n",
    "\n",
    "KNN = 96.66% (treino e teste) e 95.33% (validação cruzada) - previsores ou previsores_esc\n",
    "\n",
    "Árvore de Decisão = 93.33% (treino e teste) e 94.67% (validação cruzada) - previsores ou previsores_esc\n",
    "\n",
    "Random Forest = 95% (treino e teste) e 96% (validação cruzada) - previsores_esc\n",
    "\n",
    "XGBoost = 93.33% (treino e teste) e 94.67% (validação cruzada) - previsores ou previsores_esc\n",
    "\n",
    "~~LGBM = 70% (treino e teste) e 96% (validação cruzada) - previsores ou previsores_esc~~"
   ]
  },
  {
   "cell_type": "markdown",
   "id": "eac552ba-ed95-43e2-bcc5-300d6dec40d9",
   "metadata": {},
   "source": [
    "O valor de acurácia entre os modelos de treino e teste deve estar relativamente próximo ao da validação cruzada, caso contrário, a separação dos mesmos não foi feita adequadamente."
   ]
  },
  {
   "cell_type": "markdown",
   "id": "0f9305e2-4c3c-4720-9d7c-c1e23b684e38",
   "metadata": {
    "tags": []
   },
   "source": [
    "# CatBoost"
   ]
  },
  {
   "cell_type": "code",
   "execution_count": null,
   "id": "3a8f0ffa-e33a-46c7-8834-04686380c89b",
   "metadata": {},
   "outputs": [],
   "source": [
    "df = df.drop(columns=['Id']) # excluindo coluna id"
   ]
  },
  {
   "cell_type": "code",
   "execution_count": null,
   "id": "612d0b4a-2170-4f01-894e-06d735e2befc",
   "metadata": {},
   "outputs": [],
   "source": [
    "alvo = df.iloc[:, 4].values # selecionando variavel alvo\n",
    "alvo = LabelEncoder().fit_transform(alvo) # transformando em categoricas ordinais"
   ]
  },
  {
   "cell_type": "code",
   "execution_count": null,
   "id": "55f31972-bc76-4efe-a9f2-bbc3ab06f2f4",
   "metadata": {},
   "outputs": [],
   "source": [
    "df.head(0) # visualizando colunas"
   ]
  },
  {
   "cell_type": "markdown",
   "id": "e877eea2-f9ed-4516-be10-dcd7b8abf8c5",
   "metadata": {
    "tags": []
   },
   "source": [
    "### Treinamento"
   ]
  },
  {
   "cell_type": "code",
   "execution_count": null,
   "id": "1231370b-df9a-42b9-8c0c-d6a7e06f62f1",
   "metadata": {},
   "outputs": [],
   "source": [
    "from catboost import CatBoostClassifier"
   ]
  },
  {
   "cell_type": "code",
   "execution_count": null,
   "id": "e553e3f3-b255-4325-be87-fc3a02255355",
   "metadata": {},
   "outputs": [],
   "source": [
    "catboost = CatBoostClassifier(task_type='CPU', iterations=100, learning_rate=0.1, depth=8,\n",
    "                             random_state=5, eval_metric='Accuracy') # nomeando algoritmo"
   ]
  },
  {
   "cell_type": "code",
   "execution_count": null,
   "id": "74dbfe70-0130-4b3c-b801-8e85a0d0009a",
   "metadata": {},
   "outputs": [],
   "source": [
    "catboost.fit(x_treino, y_treino, eval_set=(x_teste,y_teste)) # treinamento"
   ]
  },
  {
   "cell_type": "markdown",
   "id": "86e21fd1-8207-457c-9827-f00067dc05e1",
   "metadata": {
    "tags": []
   },
   "source": [
    "### Previsões com dados de teste"
   ]
  },
  {
   "cell_type": "code",
   "execution_count": null,
   "id": "fac66ad1-11b3-4747-8dc9-ac96d153bd16",
   "metadata": {},
   "outputs": [],
   "source": [
    "previsoes_cat= catboost.predict(x_teste) # prevendo dados de teste\n",
    "previsoes_cat"
   ]
  },
  {
   "cell_type": "code",
   "execution_count": null,
   "id": "0a98fc3a-ed38-4543-aef9-edf5602f9454",
   "metadata": {},
   "outputs": [],
   "source": [
    "accuracy_score(y_teste, previsoes_cat) # acuracia"
   ]
  },
  {
   "cell_type": "code",
   "execution_count": null,
   "id": "5e6ebcc9-2648-4201-9088-2fb4de903037",
   "metadata": {},
   "outputs": [],
   "source": [
    "confusion_matrix(y_teste, previsoes_cat) # matriz de confusao"
   ]
  },
  {
   "cell_type": "code",
   "execution_count": null,
   "id": "7ac92ac9-9c66-46b2-b442-5cb8e3e6b7c2",
   "metadata": {},
   "outputs": [],
   "source": [
    "print(classification_report(y_teste, previsoes_cat)) # relatorio"
   ]
  },
  {
   "cell_type": "markdown",
   "id": "567fa6e2-d243-445e-9585-3c1abc0dc962",
   "metadata": {
    "tags": []
   },
   "source": [
    "### Previsões com dados de treino"
   ]
  },
  {
   "cell_type": "code",
   "execution_count": null,
   "id": "bcd42a46-b706-454e-983f-5a9c6900bb96",
   "metadata": {},
   "outputs": [],
   "source": [
    "previsoes_treino = catboost.predict(x_treino) # prevendo dados de treino"
   ]
  },
  {
   "cell_type": "code",
   "execution_count": null,
   "id": "7f9e2c60-b12f-4b38-8e09-899d78e804ef",
   "metadata": {},
   "outputs": [],
   "source": [
    "accuracy_score(y_treino, previsoes_treino) # acuracia"
   ]
  },
  {
   "cell_type": "code",
   "execution_count": null,
   "id": "0b53da9a-191b-47f6-8bf4-d10f55ac4dc5",
   "metadata": {},
   "outputs": [],
   "source": [
    "confusion_matrix(y_treino, previsoes_treino) # matriz de confusao"
   ]
  },
  {
   "cell_type": "markdown",
   "id": "b7ab2c45-14c6-447f-aef8-6ce8b10b37bc",
   "metadata": {},
   "source": [
    "Melhor combinação encontrada:\n",
    "* previsores = 98.33% (CatBoostClassifier(task_type='CPU', iterations=100, learning_rate=0.1, depth=8, random_state=5, eval_metric='Accuracy')\n",
    "* previsores_esc = 98.33% (CatBoostClassifier(task_type='CPU', iterations=100, learning_rate=0.1, depth=8, random_state=5, eval_metric='Accuracy')"
   ]
  },
  {
   "cell_type": "markdown",
   "id": "975a747f-9477-4044-be53-beb87b924c90",
   "metadata": {
    "tags": []
   },
   "source": [
    "### Validação cruzada "
   ]
  },
  {
   "cell_type": "markdown",
   "id": "6b44ca07-fc8d-40e1-8aa7-186adcec9514",
   "metadata": {},
   "source": [
    "Validação cruzada é uma técnica para avaliar modelos de ML por meio de treinamento de vários modelos de ML em subconjuntos de dados de entrada disponíveis e avaliação deles no subconjunto complementar dos dados. Use a validação cruzada para detectar sobreajuste, ou seja, a não generalização de um padrão."
   ]
  },
  {
   "cell_type": "code",
   "execution_count": null,
   "id": "bef3c419-adc3-40c9-833e-ce0101356e83",
   "metadata": {},
   "outputs": [],
   "source": [
    "from sklearn.model_selection import KFold, cross_val_score"
   ]
  },
  {
   "cell_type": "code",
   "execution_count": null,
   "id": "14cf9450-f0cb-4df1-b1fe-df1938b641df",
   "metadata": {},
   "outputs": [],
   "source": [
    "kfold = KFold(n_splits=5, random_state=0, shuffle=True) # separando em folds"
   ]
  },
  {
   "cell_type": "code",
   "execution_count": null,
   "id": "0e6f9b15-ceca-41dc-848b-69966fb0e68c",
   "metadata": {},
   "outputs": [],
   "source": [
    "modelo = CatBoostClassifier(task_type='CPU', iterations=100, learning_rate=0.1, depth=8,\n",
    "                             random_state=5, eval_metric='Accuracy')"
   ]
  },
  {
   "cell_type": "code",
   "execution_count": null,
   "id": "10d174c7-d679-4d43-a43c-e29fef850620",
   "metadata": {},
   "outputs": [],
   "source": [
    "resultado = cross_val_score(modelo, previsores, alvo, cv=kfold)"
   ]
  },
  {
   "cell_type": "code",
   "execution_count": null,
   "id": "56f6fa22-05bf-49b6-8bac-1d05a6e6d8ef",
   "metadata": {},
   "outputs": [],
   "source": [
    "print('Acurácia média: {:.2f}%' .format(resultado.mean() * 100)) # media de todas as acuracias"
   ]
  },
  {
   "cell_type": "markdown",
   "id": "8c13d99b-2535-4bce-a44a-5e31d6c9744d",
   "metadata": {},
   "source": [
    "Naive Bayes = 93.33% (treino e teste) e 95.33% (validação cruzada) - previsores ou previsores_esc\n",
    "\n",
    "SVM = 96.66% (treino e teste) e 95.33% (validação cruzada) - previsores\n",
    "\n",
    "Regressão Logística = 98.33% (treino e teste) e 96% (validação cruzada) - previsores ou previsores_esc\n",
    "\n",
    "KNN = 96.66% (treino e teste) e 95.33% (validação cruzada) - previsores ou previsores_esc\n",
    "\n",
    "Árvore de Decisão = 93.33% (treino e teste) e 94.67% (validação cruzada) - previsores ou previsores_esc\n",
    "\n",
    "Random Forest = 95% (treino e teste) e 96% (validação cruzada) - previsores_esc\n",
    "\n",
    "XGBoost = 93.33% (treino e teste) e 94.67% (validação cruzada) - previsores ou previsores_esc\n",
    "\n",
    "LGBM = 70% (treino e teste) e 96% (validação cruzada) - previsores ou previsores_esc\n",
    "\n",
    "**CatBoost = 98.33% (treino e teste) e 95.33% (validação cruzada) - previsores ou previsores_esc**"
   ]
  },
  {
   "cell_type": "markdown",
   "id": "d68ecb4b-4764-42ac-8558-4d180ee64fb3",
   "metadata": {},
   "source": [
    "O valor de acurácia entre os modelos de treino e teste deve estar relativamente próximo ao da validação cruzada, caso contrário, a separação dos mesmos não foi feita adequadamente."
   ]
  },
  {
   "cell_type": "markdown",
   "id": "f3c2211e-2371-43e6-85ee-33ff9bd031a6",
   "metadata": {
    "tags": []
   },
   "source": [
    "# Salvando"
   ]
  },
  {
   "cell_type": "markdown",
   "id": "df47d1d2-bd8b-4d71-9e15-8f28bd37df50",
   "metadata": {},
   "source": [
    "### Salvando arquivos"
   ]
  },
  {
   "cell_type": "code",
   "execution_count": null,
   "id": "e413b80e-44f0-4899-a14e-cca11e400e38",
   "metadata": {},
   "outputs": [],
   "source": [
    "# np.savetxt('previsores.csv', previsores, delimiter=',') # salvando previsores"
   ]
  },
  {
   "cell_type": "code",
   "execution_count": null,
   "id": "dfeb970e-59ff-4a65-922a-cfe6f62fe9b9",
   "metadata": {},
   "outputs": [],
   "source": [
    "# np.savetxt('alvo.csv', alvo, delimiter=',') # salvando alvo"
   ]
  },
  {
   "cell_type": "markdown",
   "id": "a97cfe14-0ff7-4944-ad1f-3d9982c867d0",
   "metadata": {},
   "source": [
    "### Salvando o algoritmo"
   ]
  },
  {
   "cell_type": "markdown",
   "id": "0dd8195e-316f-490c-8236-221b54977cc8",
   "metadata": {},
   "source": [
    " from catboost import CatBoostClassifier"
   ]
  },
  {
   "cell_type": "markdown",
   "id": "427f6a8e-cde4-47f1-92f0-d01705477f8d",
   "metadata": {},
   "source": [
    "catboost = CatBoostClassifier(task_type='CPU', iterations=100, learning_rate=0.1, depth=8,\n",
    "                             random_state=5, eval_metric='Accuracy')"
   ]
  },
  {
   "cell_type": "markdown",
   "id": "7640117d-e56c-4636-b8e1-61be3f2ff5ec",
   "metadata": {},
   "source": [
    "catboost.fit(x_treino, y_treino, eval_set=(x_teste,y_teste))"
   ]
  },
  {
   "cell_type": "markdown",
   "id": "42f6df2d-793a-4d23-b5f9-4ac210d63199",
   "metadata": {
    "tags": []
   },
   "source": [
    "# Simulação de classificação"
   ]
  },
  {
   "cell_type": "markdown",
   "id": "14a3ca9b-b686-4b6c-ade3-622de56edb2f",
   "metadata": {},
   "source": [
    "QUAL É A ESPÉCIE DA FLOR ?"
   ]
  },
  {
   "cell_type": "markdown",
   "id": "2de6b252-4db8-4d5f-ae05-55dbdcb638a3",
   "metadata": {
    "tags": []
   },
   "source": [
    "### Abertura dos atributos previsores e alvo"
   ]
  },
  {
   "cell_type": "code",
   "execution_count": null,
   "id": "0580031b-f0be-4d1e-9ac2-4954513821fd",
   "metadata": {},
   "outputs": [],
   "source": [
    "previsores = pd.read_csv('previsores.csv', header=None) # lendo arquivo (sem cabeçalho)\n",
    "previsores"
   ]
  },
  {
   "cell_type": "code",
   "execution_count": null,
   "id": "bf6de58f-0cf4-4b19-971b-db614f9a277a",
   "metadata": {},
   "outputs": [],
   "source": [
    "alvo = pd.read_csv('alvo.csv', header=None) # lendo alvo (sem cabeçalho)\n",
    "alvo"
   ]
  },
  {
   "cell_type": "code",
   "execution_count": null,
   "id": "d3fdea63-b8af-41ea-aab6-e0b7d1543133",
   "metadata": {},
   "outputs": [],
   "source": [
    "# tranformando em matriz\n",
    "previsores = previsores.values \n",
    "alvo = alvo.values"
   ]
  },
  {
   "cell_type": "markdown",
   "id": "839d70fd-1936-4253-815c-ba7c0f36540d",
   "metadata": {
    "tags": []
   },
   "source": [
    "### Carregando o classificador CatBoost"
   ]
  },
  {
   "cell_type": "code",
   "execution_count": null,
   "id": "7557bfb1-a559-4b89-9183-e6ab69b695fd",
   "metadata": {},
   "outputs": [],
   "source": [
    "# CONFIGURAÇOES\n",
    "from catboost import CatBoostClassifier\n",
    "\n",
    "catboost = CatBoostClassifier(task_type='CPU', iterations=100, learning_rate=0.1, depth=8, random_state=5, eval_metric='Accuracy')\n",
    "\n",
    "catboost.fit(x_treino, y_treino, eval_set=(x_teste,y_teste))"
   ]
  },
  {
   "cell_type": "markdown",
   "id": "4261c8fc-2523-4e21-8ac1-9e574bc645e6",
   "metadata": {
    "tags": []
   },
   "source": [
    "### Simulando medidas "
   ]
  },
  {
   "cell_type": "code",
   "execution_count": null,
   "id": "999a153a-2bd1-460c-8f1e-260e8fcda785",
   "metadata": {},
   "outputs": [],
   "source": [
    "flor1 = [[6, 2.93, 3.63, 1,23]] # predição (com valores aleatorios)\n",
    "flor2 = [[4.6, 3.2, 1.4, 0.2]] # iris-setosa (0) (teste) (com valores do dataset)\n",
    "flor3 = [[7.7, 3.0, 6.1, 2.3]] # iris-virginica (2) (teste) (com valores do dataset)\n",
    "flor4 = [[4.9, 2.4, 3.3, 1.0]] # iris-versicolor (1) (teste) (com valores do dataset)"
   ]
  },
  {
   "cell_type": "code",
   "execution_count": null,
   "id": "2c366dfc-b87c-471a-8163-62f02c4d1290",
   "metadata": {},
   "outputs": [],
   "source": [
    "# função de predição\n",
    "def flower_classifier(x):\n",
    "    resultado = catboost.predict(x)\n",
    "    if resultado == 0:\n",
    "        return print('Íris-setosa')\n",
    "    elif resultado == 1:\n",
    "        return print('Íris-versicolor')\n",
    "    else:\n",
    "        return print('Íris-virgínica')\n",
    "    \n",
    "flower_classifier(flor1) # com as determindas medidas provavelmente seria da especie iris-versicolor\n",
    "flower_classifier(flor2) # iris-setosa\n",
    "flower_classifier(flor3) # iris-virginica\n",
    "flower_classifier(flor4) # iris-versicolor"
   ]
  },
  {
   "cell_type": "markdown",
   "id": "b320c12e-8396-4b15-9e45-fa8a3c3c0183",
   "metadata": {},
   "source": [
    "---"
   ]
  },
  {
   "cell_type": "markdown",
   "id": "d8474e9c-2107-4a5b-8d75-9fd2de1f2255",
   "metadata": {},
   "source": [
    "---------------------------------------------------------------------------------FIM--------------------------------------------------------------------------------------------------------"
   ]
  },
  {
   "cell_type": "markdown",
   "id": "a8d303a8-5e67-4a6c-8447-41d0151d62db",
   "metadata": {},
   "source": [
    "---"
   ]
  }
 ],
 "metadata": {
  "kernelspec": {
   "display_name": "Python 3 (ipykernel)",
   "language": "python",
   "name": "python3"
  },
  "language_info": {
   "codemirror_mode": {
    "name": "ipython",
    "version": 3
   },
   "file_extension": ".py",
   "mimetype": "text/x-python",
   "name": "python",
   "nbconvert_exporter": "python",
   "pygments_lexer": "ipython3",
   "version": "3.9.12"
  }
 },
 "nbformat": 4,
 "nbformat_minor": 5
}
